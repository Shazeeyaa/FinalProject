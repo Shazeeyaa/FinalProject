{
  "nbformat": 4,
  "nbformat_minor": 0,
  "metadata": {
    "colab": {
      "name": " Bengaluru_House_Price_Prediction.ipynb",
      "provenance": []
    },
    "kernelspec": {
      "name": "python3",
      "display_name": "Python 3"
    },
    "language_info": {
      "name": "python"
    }
  },
  "cells": [
    {
      "cell_type": "markdown",
      "source": [
        "# **Regression Project: Predicting House Price in Bangalore**"
      ],
      "metadata": {
        "id": "CQyufjP4VCkK"
      }
    },
    {
      "cell_type": "markdown",
      "source": [
        "# **Importing Important Liabraries**"
      ],
      "metadata": {
        "id": "lwy492aqk2Ps"
      }
    },
    {
      "cell_type": "code",
      "execution_count": 13,
      "metadata": {
        "id": "8Pjr33jK6sf8"
      },
      "outputs": [],
      "source": [
        "import pandas as pd\n",
        "import numpy as np\n",
        "import matplotlib.pyplot as plt\n",
        "import seaborn as sns"
      ]
    },
    {
      "cell_type": "markdown",
      "source": [
        "# **Importing csv File**"
      ],
      "metadata": {
        "id": "lmvBGBr6k7Tn"
      }
    },
    {
      "cell_type": "code",
      "source": [
        "data_set= pd.read_csv('/content/Bengaluru_House_Data.csv')\n",
        "data_set.head()\n"
      ],
      "metadata": {
        "colab": {
          "base_uri": "https://localhost:8080/",
          "height": 0
        },
        "id": "v0vso9iG7Kvb",
        "outputId": "71799eac-a9c7-40e8-f641-29e9651e1b7c"
      },
      "execution_count": 32,
      "outputs": [
        {
          "output_type": "execute_result",
          "data": {
            "text/plain": [
              "              area_type availability                  location       size  \\\n",
              "0  Super built-up  Area       16-Jan  Electronic City Phase II      2 BHK   \n",
              "1            Plot  Area       17-Jan          Chikka Tirupathi  4 Bedroom   \n",
              "2        Built-up  Area       18-Jan               Uttarahalli      3 BHK   \n",
              "3  Super built-up  Area       18-Jan        Lingadheeranahalli      3 BHK   \n",
              "4  Super built-up  Area       18-Jan                  Kothanur      2 BHK   \n",
              "\n",
              "   society total_sqft  bath  balcony   price  \n",
              "0  Coomee        1056   2.0      1.0   39.07  \n",
              "1  Theanmp       2600   5.0      3.0  120.00  \n",
              "2      NaN       1440   2.0      3.0   62.00  \n",
              "3  Soiewre       1521   3.0      1.0   95.00  \n",
              "4      NaN       1200   2.0      1.0   51.00  "
            ],
            "text/html": [
              "\n",
              "  <div id=\"df-d5748f09-ea3b-47cb-bdf3-8240bf0abfa1\">\n",
              "    <div class=\"colab-df-container\">\n",
              "      <div>\n",
              "<style scoped>\n",
              "    .dataframe tbody tr th:only-of-type {\n",
              "        vertical-align: middle;\n",
              "    }\n",
              "\n",
              "    .dataframe tbody tr th {\n",
              "        vertical-align: top;\n",
              "    }\n",
              "\n",
              "    .dataframe thead th {\n",
              "        text-align: right;\n",
              "    }\n",
              "</style>\n",
              "<table border=\"1\" class=\"dataframe\">\n",
              "  <thead>\n",
              "    <tr style=\"text-align: right;\">\n",
              "      <th></th>\n",
              "      <th>area_type</th>\n",
              "      <th>availability</th>\n",
              "      <th>location</th>\n",
              "      <th>size</th>\n",
              "      <th>society</th>\n",
              "      <th>total_sqft</th>\n",
              "      <th>bath</th>\n",
              "      <th>balcony</th>\n",
              "      <th>price</th>\n",
              "    </tr>\n",
              "  </thead>\n",
              "  <tbody>\n",
              "    <tr>\n",
              "      <th>0</th>\n",
              "      <td>Super built-up  Area</td>\n",
              "      <td>16-Jan</td>\n",
              "      <td>Electronic City Phase II</td>\n",
              "      <td>2 BHK</td>\n",
              "      <td>Coomee</td>\n",
              "      <td>1056</td>\n",
              "      <td>2.0</td>\n",
              "      <td>1.0</td>\n",
              "      <td>39.07</td>\n",
              "    </tr>\n",
              "    <tr>\n",
              "      <th>1</th>\n",
              "      <td>Plot  Area</td>\n",
              "      <td>17-Jan</td>\n",
              "      <td>Chikka Tirupathi</td>\n",
              "      <td>4 Bedroom</td>\n",
              "      <td>Theanmp</td>\n",
              "      <td>2600</td>\n",
              "      <td>5.0</td>\n",
              "      <td>3.0</td>\n",
              "      <td>120.00</td>\n",
              "    </tr>\n",
              "    <tr>\n",
              "      <th>2</th>\n",
              "      <td>Built-up  Area</td>\n",
              "      <td>18-Jan</td>\n",
              "      <td>Uttarahalli</td>\n",
              "      <td>3 BHK</td>\n",
              "      <td>NaN</td>\n",
              "      <td>1440</td>\n",
              "      <td>2.0</td>\n",
              "      <td>3.0</td>\n",
              "      <td>62.00</td>\n",
              "    </tr>\n",
              "    <tr>\n",
              "      <th>3</th>\n",
              "      <td>Super built-up  Area</td>\n",
              "      <td>18-Jan</td>\n",
              "      <td>Lingadheeranahalli</td>\n",
              "      <td>3 BHK</td>\n",
              "      <td>Soiewre</td>\n",
              "      <td>1521</td>\n",
              "      <td>3.0</td>\n",
              "      <td>1.0</td>\n",
              "      <td>95.00</td>\n",
              "    </tr>\n",
              "    <tr>\n",
              "      <th>4</th>\n",
              "      <td>Super built-up  Area</td>\n",
              "      <td>18-Jan</td>\n",
              "      <td>Kothanur</td>\n",
              "      <td>2 BHK</td>\n",
              "      <td>NaN</td>\n",
              "      <td>1200</td>\n",
              "      <td>2.0</td>\n",
              "      <td>1.0</td>\n",
              "      <td>51.00</td>\n",
              "    </tr>\n",
              "  </tbody>\n",
              "</table>\n",
              "</div>\n",
              "      <button class=\"colab-df-convert\" onclick=\"convertToInteractive('df-d5748f09-ea3b-47cb-bdf3-8240bf0abfa1')\"\n",
              "              title=\"Convert this dataframe to an interactive table.\"\n",
              "              style=\"display:none;\">\n",
              "        \n",
              "  <svg xmlns=\"http://www.w3.org/2000/svg\" height=\"24px\"viewBox=\"0 0 24 24\"\n",
              "       width=\"24px\">\n",
              "    <path d=\"M0 0h24v24H0V0z\" fill=\"none\"/>\n",
              "    <path d=\"M18.56 5.44l.94 2.06.94-2.06 2.06-.94-2.06-.94-.94-2.06-.94 2.06-2.06.94zm-11 1L8.5 8.5l.94-2.06 2.06-.94-2.06-.94L8.5 2.5l-.94 2.06-2.06.94zm10 10l.94 2.06.94-2.06 2.06-.94-2.06-.94-.94-2.06-.94 2.06-2.06.94z\"/><path d=\"M17.41 7.96l-1.37-1.37c-.4-.4-.92-.59-1.43-.59-.52 0-1.04.2-1.43.59L10.3 9.45l-7.72 7.72c-.78.78-.78 2.05 0 2.83L4 21.41c.39.39.9.59 1.41.59.51 0 1.02-.2 1.41-.59l7.78-7.78 2.81-2.81c.8-.78.8-2.07 0-2.86zM5.41 20L4 18.59l7.72-7.72 1.47 1.35L5.41 20z\"/>\n",
              "  </svg>\n",
              "      </button>\n",
              "      \n",
              "  <style>\n",
              "    .colab-df-container {\n",
              "      display:flex;\n",
              "      flex-wrap:wrap;\n",
              "      gap: 12px;\n",
              "    }\n",
              "\n",
              "    .colab-df-convert {\n",
              "      background-color: #E8F0FE;\n",
              "      border: none;\n",
              "      border-radius: 50%;\n",
              "      cursor: pointer;\n",
              "      display: none;\n",
              "      fill: #1967D2;\n",
              "      height: 32px;\n",
              "      padding: 0 0 0 0;\n",
              "      width: 32px;\n",
              "    }\n",
              "\n",
              "    .colab-df-convert:hover {\n",
              "      background-color: #E2EBFA;\n",
              "      box-shadow: 0px 1px 2px rgba(60, 64, 67, 0.3), 0px 1px 3px 1px rgba(60, 64, 67, 0.15);\n",
              "      fill: #174EA6;\n",
              "    }\n",
              "\n",
              "    [theme=dark] .colab-df-convert {\n",
              "      background-color: #3B4455;\n",
              "      fill: #D2E3FC;\n",
              "    }\n",
              "\n",
              "    [theme=dark] .colab-df-convert:hover {\n",
              "      background-color: #434B5C;\n",
              "      box-shadow: 0px 1px 3px 1px rgba(0, 0, 0, 0.15);\n",
              "      filter: drop-shadow(0px 1px 2px rgba(0, 0, 0, 0.3));\n",
              "      fill: #FFFFFF;\n",
              "    }\n",
              "  </style>\n",
              "\n",
              "      <script>\n",
              "        const buttonEl =\n",
              "          document.querySelector('#df-d5748f09-ea3b-47cb-bdf3-8240bf0abfa1 button.colab-df-convert');\n",
              "        buttonEl.style.display =\n",
              "          google.colab.kernel.accessAllowed ? 'block' : 'none';\n",
              "\n",
              "        async function convertToInteractive(key) {\n",
              "          const element = document.querySelector('#df-d5748f09-ea3b-47cb-bdf3-8240bf0abfa1');\n",
              "          const dataTable =\n",
              "            await google.colab.kernel.invokeFunction('convertToInteractive',\n",
              "                                                     [key], {});\n",
              "          if (!dataTable) return;\n",
              "\n",
              "          const docLinkHtml = 'Like what you see? Visit the ' +\n",
              "            '<a target=\"_blank\" href=https://colab.research.google.com/notebooks/data_table.ipynb>data table notebook</a>'\n",
              "            + ' to learn more about interactive tables.';\n",
              "          element.innerHTML = '';\n",
              "          dataTable['output_type'] = 'display_data';\n",
              "          await google.colab.output.renderOutput(dataTable, element);\n",
              "          const docLink = document.createElement('div');\n",
              "          docLink.innerHTML = docLinkHtml;\n",
              "          element.appendChild(docLink);\n",
              "        }\n",
              "      </script>\n",
              "    </div>\n",
              "  </div>\n",
              "  "
            ]
          },
          "metadata": {},
          "execution_count": 32
        }
      ]
    },
    {
      "cell_type": "markdown",
      "source": [
        "# **Analysing the DataFrame**"
      ],
      "metadata": {
        "id": "DdreV4jAFAlb"
      }
    },
    {
      "cell_type": "code",
      "source": [
        "data_set.info()"
      ],
      "metadata": {
        "colab": {
          "base_uri": "https://localhost:8080/"
        },
        "id": "oaHfkYov_Hjx",
        "outputId": "fad3e804-98de-499b-942a-e2e03801e08c"
      },
      "execution_count": 33,
      "outputs": [
        {
          "output_type": "stream",
          "name": "stdout",
          "text": [
            "<class 'pandas.core.frame.DataFrame'>\n",
            "RangeIndex: 13320 entries, 0 to 13319\n",
            "Data columns (total 9 columns):\n",
            " #   Column        Non-Null Count  Dtype  \n",
            "---  ------        --------------  -----  \n",
            " 0   area_type     13320 non-null  object \n",
            " 1   availability  13320 non-null  object \n",
            " 2   location      13319 non-null  object \n",
            " 3   size          13304 non-null  object \n",
            " 4   society       7818 non-null   object \n",
            " 5   total_sqft    13320 non-null  object \n",
            " 6   bath          13247 non-null  float64\n",
            " 7   balcony       12711 non-null  float64\n",
            " 8   price         13320 non-null  float64\n",
            "dtypes: float64(3), object(6)\n",
            "memory usage: 936.7+ KB\n"
          ]
        }
      ]
    },
    {
      "cell_type": "code",
      "source": [
        "data_set.isnull().sum()"
      ],
      "metadata": {
        "colab": {
          "base_uri": "https://localhost:8080/"
        },
        "id": "xC3sy2S2_qwa",
        "outputId": "e4b7675b-6106-46f4-e12e-ccf2f182958d"
      },
      "execution_count": 34,
      "outputs": [
        {
          "output_type": "execute_result",
          "data": {
            "text/plain": [
              "area_type          0\n",
              "availability       0\n",
              "location           1\n",
              "size              16\n",
              "society         5502\n",
              "total_sqft         0\n",
              "bath              73\n",
              "balcony          609\n",
              "price              0\n",
              "dtype: int64"
            ]
          },
          "metadata": {},
          "execution_count": 34
        }
      ]
    },
    {
      "cell_type": "code",
      "source": [
        "data_set.describe()"
      ],
      "metadata": {
        "colab": {
          "base_uri": "https://localhost:8080/",
          "height": 0
        },
        "id": "6KhrPXCJlPQX",
        "outputId": "98be8c64-af64-466f-b259-75390e07287c"
      },
      "execution_count": 35,
      "outputs": [
        {
          "output_type": "execute_result",
          "data": {
            "text/plain": [
              "               bath       balcony         price\n",
              "count  13247.000000  12711.000000  13320.000000\n",
              "mean       2.692610      1.584376    112.565627\n",
              "std        1.341458      0.817263    148.971674\n",
              "min        1.000000      0.000000      8.000000\n",
              "25%        2.000000      1.000000     50.000000\n",
              "50%        2.000000      2.000000     72.000000\n",
              "75%        3.000000      2.000000    120.000000\n",
              "max       40.000000      3.000000   3600.000000"
            ],
            "text/html": [
              "\n",
              "  <div id=\"df-974d7798-1868-443b-8360-508be8eb5f27\">\n",
              "    <div class=\"colab-df-container\">\n",
              "      <div>\n",
              "<style scoped>\n",
              "    .dataframe tbody tr th:only-of-type {\n",
              "        vertical-align: middle;\n",
              "    }\n",
              "\n",
              "    .dataframe tbody tr th {\n",
              "        vertical-align: top;\n",
              "    }\n",
              "\n",
              "    .dataframe thead th {\n",
              "        text-align: right;\n",
              "    }\n",
              "</style>\n",
              "<table border=\"1\" class=\"dataframe\">\n",
              "  <thead>\n",
              "    <tr style=\"text-align: right;\">\n",
              "      <th></th>\n",
              "      <th>bath</th>\n",
              "      <th>balcony</th>\n",
              "      <th>price</th>\n",
              "    </tr>\n",
              "  </thead>\n",
              "  <tbody>\n",
              "    <tr>\n",
              "      <th>count</th>\n",
              "      <td>13247.000000</td>\n",
              "      <td>12711.000000</td>\n",
              "      <td>13320.000000</td>\n",
              "    </tr>\n",
              "    <tr>\n",
              "      <th>mean</th>\n",
              "      <td>2.692610</td>\n",
              "      <td>1.584376</td>\n",
              "      <td>112.565627</td>\n",
              "    </tr>\n",
              "    <tr>\n",
              "      <th>std</th>\n",
              "      <td>1.341458</td>\n",
              "      <td>0.817263</td>\n",
              "      <td>148.971674</td>\n",
              "    </tr>\n",
              "    <tr>\n",
              "      <th>min</th>\n",
              "      <td>1.000000</td>\n",
              "      <td>0.000000</td>\n",
              "      <td>8.000000</td>\n",
              "    </tr>\n",
              "    <tr>\n",
              "      <th>25%</th>\n",
              "      <td>2.000000</td>\n",
              "      <td>1.000000</td>\n",
              "      <td>50.000000</td>\n",
              "    </tr>\n",
              "    <tr>\n",
              "      <th>50%</th>\n",
              "      <td>2.000000</td>\n",
              "      <td>2.000000</td>\n",
              "      <td>72.000000</td>\n",
              "    </tr>\n",
              "    <tr>\n",
              "      <th>75%</th>\n",
              "      <td>3.000000</td>\n",
              "      <td>2.000000</td>\n",
              "      <td>120.000000</td>\n",
              "    </tr>\n",
              "    <tr>\n",
              "      <th>max</th>\n",
              "      <td>40.000000</td>\n",
              "      <td>3.000000</td>\n",
              "      <td>3600.000000</td>\n",
              "    </tr>\n",
              "  </tbody>\n",
              "</table>\n",
              "</div>\n",
              "      <button class=\"colab-df-convert\" onclick=\"convertToInteractive('df-974d7798-1868-443b-8360-508be8eb5f27')\"\n",
              "              title=\"Convert this dataframe to an interactive table.\"\n",
              "              style=\"display:none;\">\n",
              "        \n",
              "  <svg xmlns=\"http://www.w3.org/2000/svg\" height=\"24px\"viewBox=\"0 0 24 24\"\n",
              "       width=\"24px\">\n",
              "    <path d=\"M0 0h24v24H0V0z\" fill=\"none\"/>\n",
              "    <path d=\"M18.56 5.44l.94 2.06.94-2.06 2.06-.94-2.06-.94-.94-2.06-.94 2.06-2.06.94zm-11 1L8.5 8.5l.94-2.06 2.06-.94-2.06-.94L8.5 2.5l-.94 2.06-2.06.94zm10 10l.94 2.06.94-2.06 2.06-.94-2.06-.94-.94-2.06-.94 2.06-2.06.94z\"/><path d=\"M17.41 7.96l-1.37-1.37c-.4-.4-.92-.59-1.43-.59-.52 0-1.04.2-1.43.59L10.3 9.45l-7.72 7.72c-.78.78-.78 2.05 0 2.83L4 21.41c.39.39.9.59 1.41.59.51 0 1.02-.2 1.41-.59l7.78-7.78 2.81-2.81c.8-.78.8-2.07 0-2.86zM5.41 20L4 18.59l7.72-7.72 1.47 1.35L5.41 20z\"/>\n",
              "  </svg>\n",
              "      </button>\n",
              "      \n",
              "  <style>\n",
              "    .colab-df-container {\n",
              "      display:flex;\n",
              "      flex-wrap:wrap;\n",
              "      gap: 12px;\n",
              "    }\n",
              "\n",
              "    .colab-df-convert {\n",
              "      background-color: #E8F0FE;\n",
              "      border: none;\n",
              "      border-radius: 50%;\n",
              "      cursor: pointer;\n",
              "      display: none;\n",
              "      fill: #1967D2;\n",
              "      height: 32px;\n",
              "      padding: 0 0 0 0;\n",
              "      width: 32px;\n",
              "    }\n",
              "\n",
              "    .colab-df-convert:hover {\n",
              "      background-color: #E2EBFA;\n",
              "      box-shadow: 0px 1px 2px rgba(60, 64, 67, 0.3), 0px 1px 3px 1px rgba(60, 64, 67, 0.15);\n",
              "      fill: #174EA6;\n",
              "    }\n",
              "\n",
              "    [theme=dark] .colab-df-convert {\n",
              "      background-color: #3B4455;\n",
              "      fill: #D2E3FC;\n",
              "    }\n",
              "\n",
              "    [theme=dark] .colab-df-convert:hover {\n",
              "      background-color: #434B5C;\n",
              "      box-shadow: 0px 1px 3px 1px rgba(0, 0, 0, 0.15);\n",
              "      filter: drop-shadow(0px 1px 2px rgba(0, 0, 0, 0.3));\n",
              "      fill: #FFFFFF;\n",
              "    }\n",
              "  </style>\n",
              "\n",
              "      <script>\n",
              "        const buttonEl =\n",
              "          document.querySelector('#df-974d7798-1868-443b-8360-508be8eb5f27 button.colab-df-convert');\n",
              "        buttonEl.style.display =\n",
              "          google.colab.kernel.accessAllowed ? 'block' : 'none';\n",
              "\n",
              "        async function convertToInteractive(key) {\n",
              "          const element = document.querySelector('#df-974d7798-1868-443b-8360-508be8eb5f27');\n",
              "          const dataTable =\n",
              "            await google.colab.kernel.invokeFunction('convertToInteractive',\n",
              "                                                     [key], {});\n",
              "          if (!dataTable) return;\n",
              "\n",
              "          const docLinkHtml = 'Like what you see? Visit the ' +\n",
              "            '<a target=\"_blank\" href=https://colab.research.google.com/notebooks/data_table.ipynb>data table notebook</a>'\n",
              "            + ' to learn more about interactive tables.';\n",
              "          element.innerHTML = '';\n",
              "          dataTable['output_type'] = 'display_data';\n",
              "          await google.colab.output.renderOutput(dataTable, element);\n",
              "          const docLink = document.createElement('div');\n",
              "          docLink.innerHTML = docLinkHtml;\n",
              "          element.appendChild(docLink);\n",
              "        }\n",
              "      </script>\n",
              "    </div>\n",
              "  </div>\n",
              "  "
            ]
          },
          "metadata": {},
          "execution_count": 35
        }
      ]
    },
    {
      "cell_type": "markdown",
      "source": [
        "# **Data Cleaning or missing value treatment:**"
      ],
      "metadata": {
        "id": "nlG9Las-lSQm"
      }
    },
    {
      "cell_type": "code",
      "source": [
        "data_set = data_set.drop([\"society\"], axis = 1)"
      ],
      "metadata": {
        "id": "G12qRGAZAQfL"
      },
      "execution_count": 36,
      "outputs": []
    },
    {
      "cell_type": "code",
      "source": [
        "data_set['balcony'].fillna(data_set['balcony'].mode(), inplace=True)"
      ],
      "metadata": {
        "id": "weexSe6pAzlo"
      },
      "execution_count": 37,
      "outputs": []
    },
    {
      "cell_type": "code",
      "source": [
        "data_set['bath'].fillna(data_set['bath'].mode(), inplace=True)"
      ],
      "metadata": {
        "id": "PJpPMlj1CQob"
      },
      "execution_count": 38,
      "outputs": []
    },
    {
      "cell_type": "code",
      "source": [
        "data_set['size'].fillna(data_set['size'].mode(), inplace=True)"
      ],
      "metadata": {
        "id": "3WSOeuaR-HEg"
      },
      "execution_count": 39,
      "outputs": []
    },
    {
      "cell_type": "code",
      "source": [
        "data_set.dropna(axis = 0, inplace = True)"
      ],
      "metadata": {
        "id": "6ttJyHRgBUXn"
      },
      "execution_count": 40,
      "outputs": []
    },
    {
      "cell_type": "code",
      "source": [
        "data_set.isnull().sum()"
      ],
      "metadata": {
        "colab": {
          "base_uri": "https://localhost:8080/"
        },
        "id": "k45hzzlNEUq-",
        "outputId": "45f58923-52cf-4614-b5da-450c1131d63e"
      },
      "execution_count": 41,
      "outputs": [
        {
          "output_type": "execute_result",
          "data": {
            "text/plain": [
              "area_type       0\n",
              "availability    0\n",
              "location        0\n",
              "size            0\n",
              "total_sqft      0\n",
              "bath            0\n",
              "balcony         0\n",
              "price           0\n",
              "dtype: int64"
            ]
          },
          "metadata": {},
          "execution_count": 41
        }
      ]
    },
    {
      "cell_type": "markdown",
      "source": [
        "# **Data Manipulation & Explratory Data Analysis**"
      ],
      "metadata": {
        "id": "O0cUS4KiFP-f"
      }
    },
    {
      "cell_type": "code",
      "source": [
        "data_set.info()"
      ],
      "metadata": {
        "colab": {
          "base_uri": "https://localhost:8080/"
        },
        "id": "chKHroyPEiOU",
        "outputId": "61e49c8a-a238-4425-f460-41a2b465197d"
      },
      "execution_count": 42,
      "outputs": [
        {
          "output_type": "stream",
          "name": "stdout",
          "text": [
            "<class 'pandas.core.frame.DataFrame'>\n",
            "Int64Index: 12710 entries, 0 to 13319\n",
            "Data columns (total 8 columns):\n",
            " #   Column        Non-Null Count  Dtype  \n",
            "---  ------        --------------  -----  \n",
            " 0   area_type     12710 non-null  object \n",
            " 1   availability  12710 non-null  object \n",
            " 2   location      12710 non-null  object \n",
            " 3   size          12710 non-null  object \n",
            " 4   total_sqft    12710 non-null  object \n",
            " 5   bath          12710 non-null  float64\n",
            " 6   balcony       12710 non-null  float64\n",
            " 7   price         12710 non-null  float64\n",
            "dtypes: float64(3), object(5)\n",
            "memory usage: 893.7+ KB\n"
          ]
        }
      ]
    },
    {
      "cell_type": "code",
      "source": [
        "data_set.nunique()"
      ],
      "metadata": {
        "colab": {
          "base_uri": "https://localhost:8080/"
        },
        "id": "TLYNEiGRFcCc",
        "outputId": "ea618758-a370-4a18-b3fd-fc2754c144dd"
      },
      "execution_count": 43,
      "outputs": [
        {
          "output_type": "execute_result",
          "data": {
            "text/plain": [
              "area_type          4\n",
              "availability      81\n",
              "location        1265\n",
              "size              27\n",
              "total_sqft      1976\n",
              "bath              16\n",
              "balcony            4\n",
              "price           1924\n",
              "dtype: int64"
            ]
          },
          "metadata": {},
          "execution_count": 43
        }
      ]
    },
    {
      "cell_type": "code",
      "source": [
        "for column in data_set.columns[0:]:\n",
        "    print(column,\": \",data_set[column].unique())"
      ],
      "metadata": {
        "colab": {
          "base_uri": "https://localhost:8080/"
        },
        "id": "2WRCAOAqFrD7",
        "outputId": "0aee3a6e-ee07-43c2-c5c6-ab88a3c11997"
      },
      "execution_count": 44,
      "outputs": [
        {
          "output_type": "stream",
          "name": "stdout",
          "text": [
            "area_type :  ['Super built-up  Area' 'Plot  Area' 'Built-up  Area' 'Carpet  Area']\n",
            "availability :  ['16-Jan' '17-Jan' '18-Jan' '19-Jan' '20-Jan' '21-Jan' '22-Jan' '17-Feb'\n",
            " '18-Feb' '19-Feb' '20-Feb' '21-Feb' '16-Mar' '17-Mar' '18-Mar' '19-Mar'\n",
            " '20-Mar' '21-Mar' '22-Mar' '17-Apr' '18-Apr' '19-Apr' '20-Apr' '17-May'\n",
            " '18-May' '19-May' '20-May' '21-May' '22-May' '15-Jun' '17-Jun' '18-Jun'\n",
            " '19-Jun' '20-Jun' '21-Jun' '22-Jun' '14-Jul' '16-Jul' '17-Jul' '18-Jul'\n",
            " '19-Jul' '20-Jul' '21-Jul' '15-Aug' '17-Aug' '18-Aug' '19-Aug' '20-Aug'\n",
            " '21-Aug' '16-Sep' '17-Sep' '18-Sep' '19-Sep' '20-Sep' '21-Sep' '15-Oct'\n",
            " '16-Oct' '17-Oct' '18-Oct' '19-Oct' '20-Oct' '21-Oct' '14-Nov' '15-Nov'\n",
            " '16-Nov' '17-Nov' '18-Nov' '19-Nov' '20-Nov' '21-Nov' '22-Nov' '15-Dec'\n",
            " '16-Dec' '17-Dec' '18-Dec' '19-Dec' '20-Dec' '21-Dec' '22-Dec'\n",
            " 'Immediate Possession' 'Ready To Move']\n",
            "location :  ['Electronic City Phase II' 'Chikka Tirupathi' 'Uttarahalli' ...\n",
            " '12th cross srinivas nagar banshankari 3rd stage' 'Havanur extension'\n",
            " 'Abshot Layout']\n",
            "size :  ['2 BHK' '4 Bedroom' '3 BHK' '3 Bedroom' '1 BHK' '1 RK' '4 BHK'\n",
            " '1 Bedroom' '2 Bedroom' '6 Bedroom' '8 Bedroom' '7 Bedroom' '5 BHK'\n",
            " '7 BHK' '6 BHK' '5 Bedroom' '11 BHK' '9 BHK' '9 Bedroom' '27 BHK'\n",
            " '11 Bedroom' '43 Bedroom' '14 BHK' '8 BHK' '12 Bedroom' '10 Bedroom'\n",
            " '13 BHK']\n",
            "total_sqft :  ['1056' '2600' '1440' ... '1133 - 1384' '774' '4689']\n",
            "bath :  [ 2.  5.  3.  4.  1.  8.  7.  6.  9. 27. 11. 12. 10. 40. 15. 13.]\n",
            "balcony :  [1. 3. 2. 0.]\n",
            "price :  [ 39.07 120.    62.   ...  40.14 231.   488.  ]\n"
          ]
        }
      ]
    },
    {
      "cell_type": "code",
      "source": [
        "data_set['size'].unique()"
      ],
      "metadata": {
        "colab": {
          "base_uri": "https://localhost:8080/"
        },
        "id": "BdYbGCZdGdnD",
        "outputId": "6e35c4f3-0695-4145-dbbd-d607720ac8c6"
      },
      "execution_count": 45,
      "outputs": [
        {
          "output_type": "execute_result",
          "data": {
            "text/plain": [
              "array(['2 BHK', '4 Bedroom', '3 BHK', '3 Bedroom', '1 BHK', '1 RK',\n",
              "       '4 BHK', '1 Bedroom', '2 Bedroom', '6 Bedroom', '8 Bedroom',\n",
              "       '7 Bedroom', '5 BHK', '7 BHK', '6 BHK', '5 Bedroom', '11 BHK',\n",
              "       '9 BHK', '9 Bedroom', '27 BHK', '11 Bedroom', '43 Bedroom',\n",
              "       '14 BHK', '8 BHK', '12 Bedroom', '10 Bedroom', '13 BHK'],\n",
              "      dtype=object)"
            ]
          },
          "metadata": {},
          "execution_count": 45
        }
      ]
    },
    {
      "cell_type": "code",
      "source": [
        "data_set['size']= data_set['size'].apply(lambda x :float(x.split(' ')[0]))"
      ],
      "metadata": {
        "id": "kMjFFkZlef2X"
      },
      "execution_count": 46,
      "outputs": []
    },
    {
      "cell_type": "code",
      "source": [
        "data_set['size'].unique()"
      ],
      "metadata": {
        "colab": {
          "base_uri": "https://localhost:8080/"
        },
        "id": "SobxiNh8tkjQ",
        "outputId": "ca48ca5d-63c9-4835-be00-be682387bd6a"
      },
      "execution_count": 47,
      "outputs": [
        {
          "output_type": "execute_result",
          "data": {
            "text/plain": [
              "array([ 2.,  4.,  3.,  1.,  6.,  8.,  7.,  5., 11.,  9., 27., 43., 14.,\n",
              "       12., 10., 13.])"
            ]
          },
          "metadata": {},
          "execution_count": 47
        }
      ]
    },
    {
      "cell_type": "code",
      "source": [
        "plt.figure(figsize=(15,6))\n",
        "data_set['size'].value_counts().plot(kind = 'bar',color = 'r')\n",
        "plt.show()\n"
      ],
      "metadata": {
        "colab": {
          "base_uri": "https://localhost:8080/",
          "height": 386
        },
        "id": "KG-SnhAINiH_",
        "outputId": "723c5e9e-394c-4dff-e289-fad7b826f2ab"
      },
      "execution_count": 48,
      "outputs": [
        {
          "output_type": "display_data",
          "data": {
            "text/plain": [
              "<Figure size 1080x432 with 1 Axes>"
            ],
            "image/png": "[encoded data removed]"
          },
          "metadata": {
            "needs_background": "light"
          }
        }
      ]
    },
    {
      "cell_type": "code",
      "source": [
        "data_set['total_sqft'].unique()"
      ],
      "metadata": {
        "colab": {
          "base_uri": "https://localhost:8080/"
        },
        "id": "4oXdI3lcICs5",
        "outputId": "76789c4c-c950-4450-e291-dca65d4c185a"
      },
      "execution_count": 49,
      "outputs": [
        {
          "output_type": "execute_result",
          "data": {
            "text/plain": [
              "array(['1056', '2600', '1440', ..., '1133 - 1384', '774', '4689'],\n",
              "      dtype=object)"
            ]
          },
          "metadata": {},
          "execution_count": 49
        }
      ]
    },
    {
      "cell_type": "code",
      "source": [
        "def sqft(x):\n",
        "     temp = x.split('-')\n",
        "     if len(temp)==2:\n",
        "        return (float(temp[0]) + float(temp[1]))/2\n",
        "     try:\n",
        "        return float(x)\n",
        "     except :\n",
        "        return None"
      ],
      "metadata": {
        "id": "rb-UzGe4IMzx"
      },
      "execution_count": 50,
      "outputs": []
    },
    {
      "cell_type": "code",
      "source": [
        "data_set[\"total_sqft\"] = data_set[\"total_sqft\"].apply(sqft)"
      ],
      "metadata": {
        "id": "lv7ycw2sQddp"
      },
      "execution_count": 51,
      "outputs": []
    },
    {
      "cell_type": "code",
      "source": [
        "data_set=data_set.dropna()"
      ],
      "metadata": {
        "id": "5qZtlrVwpieG"
      },
      "execution_count": 52,
      "outputs": []
    },
    {
      "cell_type": "markdown",
      "source": [
        " ***The formula for calculating price per square foot at the most basic level: Take the home’s price and divide it by the home’s square footage. The price per square foot tends to be higher for smaller houses, and lower for larger houses.***"
      ],
      "metadata": {
        "id": "SJosVIGVydoN"
      }
    },
    {
      "cell_type": "code",
      "source": [
        "\n",
        "data_set['price_per_sqft'] = data_set['price']*1000000/data_set['total_sqft']"
      ],
      "metadata": {
        "id": "5ZiA5rc5qVBF",
        "colab": {
          "base_uri": "https://localhost:8080/"
        },
        "outputId": "70913cc5-b5fb-4ae4-9df2-27352d8a3558"
      },
      "execution_count": 53,
      "outputs": [
        {
          "output_type": "stream",
          "name": "stderr",
          "text": [
            "/usr/local/lib/python3.7/dist-packages/ipykernel_launcher.py:1: SettingWithCopyWarning: \n",
            "A value is trying to be set on a copy of a slice from a DataFrame.\n",
            "Try using .loc[row_indexer,col_indexer] = value instead\n",
            "\n",
            "See the caveats in the documentation: https://pandas.pydata.org/pandas-docs/stable/user_guide/indexing.html#returning-a-view-versus-a-copy\n",
            "  \"\"\"Entry point for launching an IPython kernel.\n"
          ]
        }
      ]
    },
    {
      "cell_type": "code",
      "source": [
        "data_set"
      ],
      "metadata": {
        "colab": {
          "base_uri": "https://localhost:8080/",
          "height": 424
        },
        "id": "0y-DaNUJhoKt",
        "outputId": "489943aa-8531-4eda-9cad-311d54623ee7"
      },
      "execution_count": 54,
      "outputs": [
        {
          "output_type": "execute_result",
          "data": {
            "text/plain": [
              "                  area_type   availability                  location  size  \\\n",
              "0      Super built-up  Area         16-Jan  Electronic City Phase II   2.0   \n",
              "1                Plot  Area         17-Jan          Chikka Tirupathi   4.0   \n",
              "2            Built-up  Area         18-Jan               Uttarahalli   3.0   \n",
              "3      Super built-up  Area         18-Jan        Lingadheeranahalli   3.0   \n",
              "4      Super built-up  Area         18-Jan                  Kothanur   2.0   \n",
              "...                     ...            ...                       ...   ...   \n",
              "13314  Super built-up  Area  Ready To Move         Green Glen Layout   3.0   \n",
              "13315        Built-up  Area  Ready To Move                Whitefield   5.0   \n",
              "13317        Built-up  Area  Ready To Move     Raja Rajeshwari Nagar   2.0   \n",
              "13318  Super built-up  Area  Ready To Move           Padmanabhanagar   4.0   \n",
              "13319  Super built-up  Area  Ready To Move              Doddathoguru   1.0   \n",
              "\n",
              "       total_sqft  bath  balcony   price  price_per_sqft  \n",
              "0          1056.0   2.0      1.0   39.07    36998.106061  \n",
              "1          2600.0   5.0      3.0  120.00    46153.846154  \n",
              "2          1440.0   2.0      3.0   62.00    43055.555556  \n",
              "3          1521.0   3.0      1.0   95.00    62458.908613  \n",
              "4          1200.0   2.0      1.0   51.00    42500.000000  \n",
              "...           ...   ...      ...     ...             ...  \n",
              "13314      1715.0   3.0      3.0  112.00    65306.122449  \n",
              "13315      3453.0   4.0      0.0  231.00    66898.349262  \n",
              "13317      1141.0   2.0      1.0   60.00    52585.451358  \n",
              "13318      4689.0   4.0      1.0  488.00   104073.363190  \n",
              "13319       550.0   1.0      1.0   17.00    30909.090909  \n",
              "\n",
              "[12668 rows x 9 columns]"
            ],
            "text/html": [
              "\n",
              "  <div id=\"df-a91f446a-5a37-447d-be8d-7bd81b8b8cc7\">\n",
              "    <div class=\"colab-df-container\">\n",
              "      <div>\n",
              "<style scoped>\n",
              "    .dataframe tbody tr th:only-of-type {\n",
              "        vertical-align: middle;\n",
              "    }\n",
              "\n",
              "    .dataframe tbody tr th {\n",
              "        vertical-align: top;\n",
              "    }\n",
              "\n",
              "    .dataframe thead th {\n",
              "        text-align: right;\n",
              "    }\n",
              "</style>\n",
              "<table border=\"1\" class=\"dataframe\">\n",
              "  <thead>\n",
              "    <tr style=\"text-align: right;\">\n",
              "      <th></th>\n",
              "      <th>area_type</th>\n",
              "      <th>availability</th>\n",
              "      <th>location</th>\n",
              "      <th>size</th>\n",
              "      <th>total_sqft</th>\n",
              "      <th>bath</th>\n",
              "      <th>balcony</th>\n",
              "      <th>price</th>\n",
              "      <th>price_per_sqft</th>\n",
              "    </tr>\n",
              "  </thead>\n",
              "  <tbody>\n",
              "    <tr>\n",
              "      <th>0</th>\n",
              "      <td>Super built-up  Area</td>\n",
              "      <td>16-Jan</td>\n",
              "      <td>Electronic City Phase II</td>\n",
              "      <td>2.0</td>\n",
              "      <td>1056.0</td>\n",
              "      <td>2.0</td>\n",
              "      <td>1.0</td>\n",
              "      <td>39.07</td>\n",
              "      <td>36998.106061</td>\n",
              "    </tr>\n",
              "    <tr>\n",
              "      <th>1</th>\n",
              "      <td>Plot  Area</td>\n",
              "      <td>17-Jan</td>\n",
              "      <td>Chikka Tirupathi</td>\n",
              "      <td>4.0</td>\n",
              "      <td>2600.0</td>\n",
              "      <td>5.0</td>\n",
              "      <td>3.0</td>\n",
              "      <td>120.00</td>\n",
              "      <td>46153.846154</td>\n",
              "    </tr>\n",
              "    <tr>\n",
              "      <th>2</th>\n",
              "      <td>Built-up  Area</td>\n",
              "      <td>18-Jan</td>\n",
              "      <td>Uttarahalli</td>\n",
              "      <td>3.0</td>\n",
              "      <td>1440.0</td>\n",
              "      <td>2.0</td>\n",
              "      <td>3.0</td>\n",
              "      <td>62.00</td>\n",
              "      <td>43055.555556</td>\n",
              "    </tr>\n",
              "    <tr>\n",
              "      <th>3</th>\n",
              "      <td>Super built-up  Area</td>\n",
              "      <td>18-Jan</td>\n",
              "      <td>Lingadheeranahalli</td>\n",
              "      <td>3.0</td>\n",
              "      <td>1521.0</td>\n",
              "      <td>3.0</td>\n",
              "      <td>1.0</td>\n",
              "      <td>95.00</td>\n",
              "      <td>62458.908613</td>\n",
              "    </tr>\n",
              "    <tr>\n",
              "      <th>4</th>\n",
              "      <td>Super built-up  Area</td>\n",
              "      <td>18-Jan</td>\n",
              "      <td>Kothanur</td>\n",
              "      <td>2.0</td>\n",
              "      <td>1200.0</td>\n",
              "      <td>2.0</td>\n",
              "      <td>1.0</td>\n",
              "      <td>51.00</td>\n",
              "      <td>42500.000000</td>\n",
              "    </tr>\n",
              "    <tr>\n",
              "      <th>...</th>\n",
              "      <td>...</td>\n",
              "      <td>...</td>\n",
              "      <td>...</td>\n",
              "      <td>...</td>\n",
              "      <td>...</td>\n",
              "      <td>...</td>\n",
              "      <td>...</td>\n",
              "      <td>...</td>\n",
              "      <td>...</td>\n",
              "    </tr>\n",
              "    <tr>\n",
              "      <th>13314</th>\n",
              "      <td>Super built-up  Area</td>\n",
              "      <td>Ready To Move</td>\n",
              "      <td>Green Glen Layout</td>\n",
              "      <td>3.0</td>\n",
              "      <td>1715.0</td>\n",
              "      <td>3.0</td>\n",
              "      <td>3.0</td>\n",
              "      <td>112.00</td>\n",
              "      <td>65306.122449</td>\n",
              "    </tr>\n",
              "    <tr>\n",
              "      <th>13315</th>\n",
              "      <td>Built-up  Area</td>\n",
              "      <td>Ready To Move</td>\n",
              "      <td>Whitefield</td>\n",
              "      <td>5.0</td>\n",
              "      <td>3453.0</td>\n",
              "      <td>4.0</td>\n",
              "      <td>0.0</td>\n",
              "      <td>231.00</td>\n",
              "      <td>66898.349262</td>\n",
              "    </tr>\n",
              "    <tr>\n",
              "      <th>13317</th>\n",
              "      <td>Built-up  Area</td>\n",
              "      <td>Ready To Move</td>\n",
              "      <td>Raja Rajeshwari Nagar</td>\n",
              "      <td>2.0</td>\n",
              "      <td>1141.0</td>\n",
              "      <td>2.0</td>\n",
              "      <td>1.0</td>\n",
              "      <td>60.00</td>\n",
              "      <td>52585.451358</td>\n",
              "    </tr>\n",
              "    <tr>\n",
              "      <th>13318</th>\n",
              "      <td>Super built-up  Area</td>\n",
              "      <td>Ready To Move</td>\n",
              "      <td>Padmanabhanagar</td>\n",
              "      <td>4.0</td>\n",
              "      <td>4689.0</td>\n",
              "      <td>4.0</td>\n",
              "      <td>1.0</td>\n",
              "      <td>488.00</td>\n",
              "      <td>104073.363190</td>\n",
              "    </tr>\n",
              "    <tr>\n",
              "      <th>13319</th>\n",
              "      <td>Super built-up  Area</td>\n",
              "      <td>Ready To Move</td>\n",
              "      <td>Doddathoguru</td>\n",
              "      <td>1.0</td>\n",
              "      <td>550.0</td>\n",
              "      <td>1.0</td>\n",
              "      <td>1.0</td>\n",
              "      <td>17.00</td>\n",
              "      <td>30909.090909</td>\n",
              "    </tr>\n",
              "  </tbody>\n",
              "</table>\n",
              "<p>12668 rows × 9 columns</p>\n",
              "</div>\n",
              "      <button class=\"colab-df-convert\" onclick=\"convertToInteractive('df-a91f446a-5a37-447d-be8d-7bd81b8b8cc7')\"\n",
              "              title=\"Convert this dataframe to an interactive table.\"\n",
              "              style=\"display:none;\">\n",
              "        \n",
              "  <svg xmlns=\"http://www.w3.org/2000/svg\" height=\"24px\"viewBox=\"0 0 24 24\"\n",
              "       width=\"24px\">\n",
              "    <path d=\"M0 0h24v24H0V0z\" fill=\"none\"/>\n",
              "    <path d=\"M18.56 5.44l.94 2.06.94-2.06 2.06-.94-2.06-.94-.94-2.06-.94 2.06-2.06.94zm-11 1L8.5 8.5l.94-2.06 2.06-.94-2.06-.94L8.5 2.5l-.94 2.06-2.06.94zm10 10l.94 2.06.94-2.06 2.06-.94-2.06-.94-.94-2.06-.94 2.06-2.06.94z\"/><path d=\"M17.41 7.96l-1.37-1.37c-.4-.4-.92-.59-1.43-.59-.52 0-1.04.2-1.43.59L10.3 9.45l-7.72 7.72c-.78.78-.78 2.05 0 2.83L4 21.41c.39.39.9.59 1.41.59.51 0 1.02-.2 1.41-.59l7.78-7.78 2.81-2.81c.8-.78.8-2.07 0-2.86zM5.41 20L4 18.59l7.72-7.72 1.47 1.35L5.41 20z\"/>\n",
              "  </svg>\n",
              "      </button>\n",
              "      \n",
              "  <style>\n",
              "    .colab-df-container {\n",
              "      display:flex;\n",
              "      flex-wrap:wrap;\n",
              "      gap: 12px;\n",
              "    }\n",
              "\n",
              "    .colab-df-convert {\n",
              "      background-color: #E8F0FE;\n",
              "      border: none;\n",
              "      border-radius: 50%;\n",
              "      cursor: pointer;\n",
              "      display: none;\n",
              "      fill: #1967D2;\n",
              "      height: 32px;\n",
              "      padding: 0 0 0 0;\n",
              "      width: 32px;\n",
              "    }\n",
              "\n",
              "    .colab-df-convert:hover {\n",
              "      background-color: #E2EBFA;\n",
              "      box-shadow: 0px 1px 2px rgba(60, 64, 67, 0.3), 0px 1px 3px 1px rgba(60, 64, 67, 0.15);\n",
              "      fill: #174EA6;\n",
              "    }\n",
              "\n",
              "    [theme=dark] .colab-df-convert {\n",
              "      background-color: #3B4455;\n",
              "      fill: #D2E3FC;\n",
              "    }\n",
              "\n",
              "    [theme=dark] .colab-df-convert:hover {\n",
              "      background-color: #434B5C;\n",
              "      box-shadow: 0px 1px 3px 1px rgba(0, 0, 0, 0.15);\n",
              "      filter: drop-shadow(0px 1px 2px rgba(0, 0, 0, 0.3));\n",
              "      fill: #FFFFFF;\n",
              "    }\n",
              "  </style>\n",
              "\n",
              "      <script>\n",
              "        const buttonEl =\n",
              "          document.querySelector('#df-a91f446a-5a37-447d-be8d-7bd81b8b8cc7 button.colab-df-convert');\n",
              "        buttonEl.style.display =\n",
              "          google.colab.kernel.accessAllowed ? 'block' : 'none';\n",
              "\n",
              "        async function convertToInteractive(key) {\n",
              "          const element = document.querySelector('#df-a91f446a-5a37-447d-be8d-7bd81b8b8cc7');\n",
              "          const dataTable =\n",
              "            await google.colab.kernel.invokeFunction('convertToInteractive',\n",
              "                                                     [key], {});\n",
              "          if (!dataTable) return;\n",
              "\n",
              "          const docLinkHtml = 'Like what you see? Visit the ' +\n",
              "            '<a target=\"_blank\" href=https://colab.research.google.com/notebooks/data_table.ipynb>data table notebook</a>'\n",
              "            + ' to learn more about interactive tables.';\n",
              "          element.innerHTML = '';\n",
              "          dataTable['output_type'] = 'display_data';\n",
              "          await google.colab.output.renderOutput(dataTable, element);\n",
              "          const docLink = document.createElement('div');\n",
              "          docLink.innerHTML = docLinkHtml;\n",
              "          element.appendChild(docLink);\n",
              "        }\n",
              "      </script>\n",
              "    </div>\n",
              "  </div>\n",
              "  "
            ]
          },
          "metadata": {},
          "execution_count": 54
        }
      ]
    },
    {
      "cell_type": "code",
      "source": [
        "data_set.describe()"
      ],
      "metadata": {
        "colab": {
          "base_uri": "https://localhost:8080/",
          "height": 301
        },
        "id": "dfB0zB3dxFU6",
        "outputId": "dd2d5ebb-e997-4013-cd81-999d4bcde27e"
      },
      "execution_count": 55,
      "outputs": [
        {
          "output_type": "execute_result",
          "data": {
            "text/plain": [
              "               size    total_sqft          bath       balcony         price  \\\n",
              "count  12668.000000  12668.000000  12668.000000  12668.000000  12668.000000   \n",
              "mean       2.736422   1511.835167      2.616277      1.585649    105.952648   \n",
              "std        1.202643   1162.097276      1.223882      0.816758    131.813137   \n",
              "min        1.000000      5.000000      1.000000      0.000000      8.000000   \n",
              "25%        2.000000   1100.000000      2.000000      1.000000     49.015000   \n",
              "50%        3.000000   1260.000000      2.000000      2.000000     70.000000   \n",
              "75%        3.000000   1640.000000      3.000000      2.000000    115.000000   \n",
              "max       43.000000  52272.000000     40.000000      3.000000   2912.000000   \n",
              "\n",
              "       price_per_sqft  \n",
              "count    1.266800e+04  \n",
              "mean     6.876277e+04  \n",
              "std      2.263354e+05  \n",
              "min      2.678298e+03  \n",
              "25%      4.242721e+04  \n",
              "50%      5.376344e+04  \n",
              "75%      7.142857e+04  \n",
              "max      2.300000e+07  "
            ],
            "text/html": [
              "\n",
              "  <div id=\"df-34ec03d2-6130-4645-8f5a-68120a8d82ba\">\n",
              "    <div class=\"colab-df-container\">\n",
              "      <div>\n",
              "<style scoped>\n",
              "    .dataframe tbody tr th:only-of-type {\n",
              "        vertical-align: middle;\n",
              "    }\n",
              "\n",
              "    .dataframe tbody tr th {\n",
              "        vertical-align: top;\n",
              "    }\n",
              "\n",
              "    .dataframe thead th {\n",
              "        text-align: right;\n",
              "    }\n",
              "</style>\n",
              "<table border=\"1\" class=\"dataframe\">\n",
              "  <thead>\n",
              "    <tr style=\"text-align: right;\">\n",
              "      <th></th>\n",
              "      <th>size</th>\n",
              "      <th>total_sqft</th>\n",
              "      <th>bath</th>\n",
              "      <th>balcony</th>\n",
              "      <th>price</th>\n",
              "      <th>price_per_sqft</th>\n",
              "    </tr>\n",
              "  </thead>\n",
              "  <tbody>\n",
              "    <tr>\n",
              "      <th>count</th>\n",
              "      <td>12668.000000</td>\n",
              "      <td>12668.000000</td>\n",
              "      <td>12668.000000</td>\n",
              "      <td>12668.000000</td>\n",
              "      <td>12668.000000</td>\n",
              "      <td>1.266800e+04</td>\n",
              "    </tr>\n",
              "    <tr>\n",
              "      <th>mean</th>\n",
              "      <td>2.736422</td>\n",
              "      <td>1511.835167</td>\n",
              "      <td>2.616277</td>\n",
              "      <td>1.585649</td>\n",
              "      <td>105.952648</td>\n",
              "      <td>6.876277e+04</td>\n",
              "    </tr>\n",
              "    <tr>\n",
              "      <th>std</th>\n",
              "      <td>1.202643</td>\n",
              "      <td>1162.097276</td>\n",
              "      <td>1.223882</td>\n",
              "      <td>0.816758</td>\n",
              "      <td>131.813137</td>\n",
              "      <td>2.263354e+05</td>\n",
              "    </tr>\n",
              "    <tr>\n",
              "      <th>min</th>\n",
              "      <td>1.000000</td>\n",
              "      <td>5.000000</td>\n",
              "      <td>1.000000</td>\n",
              "      <td>0.000000</td>\n",
              "      <td>8.000000</td>\n",
              "      <td>2.678298e+03</td>\n",
              "    </tr>\n",
              "    <tr>\n",
              "      <th>25%</th>\n",
              "      <td>2.000000</td>\n",
              "      <td>1100.000000</td>\n",
              "      <td>2.000000</td>\n",
              "      <td>1.000000</td>\n",
              "      <td>49.015000</td>\n",
              "      <td>4.242721e+04</td>\n",
              "    </tr>\n",
              "    <tr>\n",
              "      <th>50%</th>\n",
              "      <td>3.000000</td>\n",
              "      <td>1260.000000</td>\n",
              "      <td>2.000000</td>\n",
              "      <td>2.000000</td>\n",
              "      <td>70.000000</td>\n",
              "      <td>5.376344e+04</td>\n",
              "    </tr>\n",
              "    <tr>\n",
              "      <th>75%</th>\n",
              "      <td>3.000000</td>\n",
              "      <td>1640.000000</td>\n",
              "      <td>3.000000</td>\n",
              "      <td>2.000000</td>\n",
              "      <td>115.000000</td>\n",
              "      <td>7.142857e+04</td>\n",
              "    </tr>\n",
              "    <tr>\n",
              "      <th>max</th>\n",
              "      <td>43.000000</td>\n",
              "      <td>52272.000000</td>\n",
              "      <td>40.000000</td>\n",
              "      <td>3.000000</td>\n",
              "      <td>2912.000000</td>\n",
              "      <td>2.300000e+07</td>\n",
              "    </tr>\n",
              "  </tbody>\n",
              "</table>\n",
              "</div>\n",
              "      <button class=\"colab-df-convert\" onclick=\"convertToInteractive('df-34ec03d2-6130-4645-8f5a-68120a8d82ba')\"\n",
              "              title=\"Convert this dataframe to an interactive table.\"\n",
              "              style=\"display:none;\">\n",
              "        \n",
              "  <svg xmlns=\"http://www.w3.org/2000/svg\" height=\"24px\"viewBox=\"0 0 24 24\"\n",
              "       width=\"24px\">\n",
              "    <path d=\"M0 0h24v24H0V0z\" fill=\"none\"/>\n",
              "    <path d=\"M18.56 5.44l.94 2.06.94-2.06 2.06-.94-2.06-.94-.94-2.06-.94 2.06-2.06.94zm-11 1L8.5 8.5l.94-2.06 2.06-.94-2.06-.94L8.5 2.5l-.94 2.06-2.06.94zm10 10l.94 2.06.94-2.06 2.06-.94-2.06-.94-.94-2.06-.94 2.06-2.06.94z\"/><path d=\"M17.41 7.96l-1.37-1.37c-.4-.4-.92-.59-1.43-.59-.52 0-1.04.2-1.43.59L10.3 9.45l-7.72 7.72c-.78.78-.78 2.05 0 2.83L4 21.41c.39.39.9.59 1.41.59.51 0 1.02-.2 1.41-.59l7.78-7.78 2.81-2.81c.8-.78.8-2.07 0-2.86zM5.41 20L4 18.59l7.72-7.72 1.47 1.35L5.41 20z\"/>\n",
              "  </svg>\n",
              "      </button>\n",
              "      \n",
              "  <style>\n",
              "    .colab-df-container {\n",
              "      display:flex;\n",
              "      flex-wrap:wrap;\n",
              "      gap: 12px;\n",
              "    }\n",
              "\n",
              "    .colab-df-convert {\n",
              "      background-color: #E8F0FE;\n",
              "      border: none;\n",
              "      border-radius: 50%;\n",
              "      cursor: pointer;\n",
              "      display: none;\n",
              "      fill: #1967D2;\n",
              "      height: 32px;\n",
              "      padding: 0 0 0 0;\n",
              "      width: 32px;\n",
              "    }\n",
              "\n",
              "    .colab-df-convert:hover {\n",
              "      background-color: #E2EBFA;\n",
              "      box-shadow: 0px 1px 2px rgba(60, 64, 67, 0.3), 0px 1px 3px 1px rgba(60, 64, 67, 0.15);\n",
              "      fill: #174EA6;\n",
              "    }\n",
              "\n",
              "    [theme=dark] .colab-df-convert {\n",
              "      background-color: #3B4455;\n",
              "      fill: #D2E3FC;\n",
              "    }\n",
              "\n",
              "    [theme=dark] .colab-df-convert:hover {\n",
              "      background-color: #434B5C;\n",
              "      box-shadow: 0px 1px 3px 1px rgba(0, 0, 0, 0.15);\n",
              "      filter: drop-shadow(0px 1px 2px rgba(0, 0, 0, 0.3));\n",
              "      fill: #FFFFFF;\n",
              "    }\n",
              "  </style>\n",
              "\n",
              "      <script>\n",
              "        const buttonEl =\n",
              "          document.querySelector('#df-34ec03d2-6130-4645-8f5a-68120a8d82ba button.colab-df-convert');\n",
              "        buttonEl.style.display =\n",
              "          google.colab.kernel.accessAllowed ? 'block' : 'none';\n",
              "\n",
              "        async function convertToInteractive(key) {\n",
              "          const element = document.querySelector('#df-34ec03d2-6130-4645-8f5a-68120a8d82ba');\n",
              "          const dataTable =\n",
              "            await google.colab.kernel.invokeFunction('convertToInteractive',\n",
              "                                                     [key], {});\n",
              "          if (!dataTable) return;\n",
              "\n",
              "          const docLinkHtml = 'Like what you see? Visit the ' +\n",
              "            '<a target=\"_blank\" href=https://colab.research.google.com/notebooks/data_table.ipynb>data table notebook</a>'\n",
              "            + ' to learn more about interactive tables.';\n",
              "          element.innerHTML = '';\n",
              "          dataTable['output_type'] = 'display_data';\n",
              "          await google.colab.output.renderOutput(dataTable, element);\n",
              "          const docLink = document.createElement('div');\n",
              "          docLink.innerHTML = docLinkHtml;\n",
              "          element.appendChild(docLink);\n",
              "        }\n",
              "      </script>\n",
              "    </div>\n",
              "  </div>\n",
              "  "
            ]
          },
          "metadata": {},
          "execution_count": 55
        }
      ]
    },
    {
      "cell_type": "code",
      "source": [
        "plt.figure(figsize=(20,10))\n",
        "sns.barplot(x='size', y = 'price_per_sqft',data = data_set)"
      ],
      "metadata": {
        "id": "t6Gggn7eyvSR",
        "colab": {
          "base_uri": "https://localhost:8080/",
          "height": 623
        },
        "outputId": "7f5493f0-c7b2-4cbc-b190-9f2f60288622"
      },
      "execution_count": 56,
      "outputs": [
        {
          "output_type": "execute_result",
          "data": {
            "text/plain": [
              "<matplotlib.axes._subplots.AxesSubplot at 0x7fbccfa10b10>"
            ]
          },
          "metadata": {},
          "execution_count": 56
        },
        {
          "output_type": "display_data",
          "data": {
            "text/plain": [
              "<Figure size 1440x720 with 1 Axes>"
            ],
            "image/png": "[encoded data removed]"
          },
          "metadata": {
            "needs_background": "light"
          }
        }
      ]
    },
    {
      "cell_type": "code",
      "source": [
        "plt.figure(figsize=(20,10))\n",
        "sns.barplot(x='area_type', y ='price_per_sqft',data = data_set)"
      ],
      "metadata": {
        "colab": {
          "base_uri": "https://localhost:8080/",
          "height": 623
        },
        "id": "SEwO5XD0-ksT",
        "outputId": "90ef02a3-cdc9-4688-c074-97a674d00ec0"
      },
      "execution_count": 57,
      "outputs": [
        {
          "output_type": "execute_result",
          "data": {
            "text/plain": [
              "<matplotlib.axes._subplots.AxesSubplot at 0x7fbccc220310>"
            ]
          },
          "metadata": {},
          "execution_count": 57
        },
        {
          "output_type": "display_data",
          "data": {
            "text/plain": [
              "<Figure size 1440x720 with 1 Axes>"
            ],
            "image/png": "[encoded data removed]"
          },
          "metadata": {
            "needs_background": "light"
          }
        }
      ]
    },
    {
      "cell_type": "code",
      "source": [
        "plt.figure(figsize=(15,10))\n",
        "\n",
        "# Seaborn color palette to plot pie chart\n",
        "colors = sns.color_palette('bright')\n",
        "explode = [0.2, 0, 0, 0]\n",
        "label=['Super built-up  Area','Carpet  Area','Plot  Area','Built-up  Area']\n",
        "sns.set(font_scale=1.5)\n",
        "\n",
        "# create pie chart using matplotlib\n",
        "plt.pie(data_set['area_type'].value_counts(), labels=label, colors=colors,\n",
        "        autopct='%0.0f%%',explode=explode,shadow=True, rotatelabels=True)\n",
        "plt.title('Area Type Value',color='r')\n",
        "plt.show()\n"
      ],
      "metadata": {
        "colab": {
          "base_uri": "https://localhost:8080/",
          "height": 771
        },
        "id": "aTcg-WI7PO5x",
        "outputId": "464156d6-c4c5-4751-9c55-ef04385b5960"
      },
      "execution_count": 58,
      "outputs": [
        {
          "output_type": "display_data",
          "data": {
            "text/plain": [
              "<Figure size 1080x720 with 1 Axes>"
            ],
            "image/png": "[encoded data removed]"
          },
          "metadata": {}
        }
      ]
    },
    {
      "cell_type": "code",
      "source": [
        "data_set['bath'].value_counts()"
      ],
      "metadata": {
        "colab": {
          "base_uri": "https://localhost:8080/"
        },
        "id": "xXBXsNCbWuoA",
        "outputId": "24d3d8b1-0d08-491f-a423-c36b07c19c1f"
      },
      "execution_count": 59,
      "outputs": [
        {
          "output_type": "execute_result",
          "data": {
            "text/plain": [
              "2.0     6820\n",
              "3.0     3134\n",
              "4.0     1105\n",
              "1.0      779\n",
              "5.0      428\n",
              "6.0      240\n",
              "7.0       82\n",
              "8.0       42\n",
              "9.0       26\n",
              "10.0       6\n",
              "27.0       1\n",
              "11.0       1\n",
              "12.0       1\n",
              "40.0       1\n",
              "15.0       1\n",
              "13.0       1\n",
              "Name: bath, dtype: int64"
            ]
          },
          "metadata": {},
          "execution_count": 59
        }
      ]
    },
    {
      "cell_type": "code",
      "source": [
        "plt.figure(figsize=(15,6))\n",
        "data_set['bath'].value_counts().plot(kind = 'bar',color = 'orange')\n",
        "plt.show()"
      ],
      "metadata": {
        "colab": {
          "base_uri": "https://localhost:8080/",
          "height": 403
        },
        "id": "Czwg_DfyXOtF",
        "outputId": "344c7af8-dd70-4c5d-b6eb-6483650197a9"
      },
      "execution_count": 60,
      "outputs": [
        {
          "output_type": "display_data",
          "data": {
            "text/plain": [
              "<Figure size 1080x432 with 1 Axes>"
            ],
            "image/png": "[encoded data removed]"
          },
          "metadata": {}
        }
      ]
    },
    {
      "cell_type": "code",
      "source": [
        "data_set['location'] = data_set['location'].apply(lambda x : x.strip())\n",
        "location_count = data_set['location'].value_counts()"
      ],
      "metadata": {
        "id": "JQO6ELAPZjNE"
      },
      "execution_count": 61,
      "outputs": []
    },
    {
      "cell_type": "code",
      "source": [
        "location_count"
      ],
      "metadata": {
        "colab": {
          "base_uri": "https://localhost:8080/"
        },
        "id": "ZNnlLWixdB55",
        "outputId": "b18a98a7-95fc-41f4-c6c4-f7c7a2a252e7"
      },
      "execution_count": 62,
      "outputs": [
        {
          "output_type": "execute_result",
          "data": {
            "text/plain": [
              "Whitefield           514\n",
              "Sarjapur  Road       372\n",
              "Electronic City      302\n",
              "Kanakpura Road       259\n",
              "Thanisandra          233\n",
              "                    ... \n",
              "Subbannaiah Palya      1\n",
              "whitefiled             1\n",
              "Medi Agrahara          1\n",
              "Sadduguntepalya        1\n",
              "Abshot Layout          1\n",
              "Name: location, Length: 1248, dtype: int64"
            ]
          },
          "metadata": {},
          "execution_count": 62
        }
      ]
    },
    {
      "cell_type": "code",
      "source": [
        "locationlessthan10=location_count[location_count<=10]\n",
        "locationlessthan10"
      ],
      "metadata": {
        "colab": {
          "base_uri": "https://localhost:8080/"
        },
        "id": "3qKo3nqo6oh-",
        "outputId": "2ae390bb-f386-4c6d-c132-576e77099037"
      },
      "execution_count": 63,
      "outputs": [
        {
          "output_type": "execute_result",
          "data": {
            "text/plain": [
              "1st Block Koramangala    10\n",
              "Gunjur Palya             10\n",
              "Kalkere                  10\n",
              "Nagappa Reddy Layout     10\n",
              "Dairy Circle             10\n",
              "                         ..\n",
              "Subbannaiah Palya         1\n",
              "whitefiled                1\n",
              "Medi Agrahara             1\n",
              "Sadduguntepalya           1\n",
              "Abshot Layout             1\n",
              "Name: location, Length: 1013, dtype: int64"
            ]
          },
          "metadata": {},
          "execution_count": 63
        }
      ]
    },
    {
      "cell_type": "code",
      "source": [
        "len(data_set.location.unique())"
      ],
      "metadata": {
        "colab": {
          "base_uri": "https://localhost:8080/"
        },
        "id": "seH00j8E7R-6",
        "outputId": "7e62c195-5c3d-44a4-f797-feeafebdfe06"
      },
      "execution_count": 64,
      "outputs": [
        {
          "output_type": "execute_result",
          "data": {
            "text/plain": [
              "1248"
            ]
          },
          "metadata": {},
          "execution_count": 64
        }
      ]
    },
    {
      "cell_type": "code",
      "source": [
        "data_set.location=data_set.location.apply(lambda x: 'other' if x in locationlessthan10 else x)\n",
        "len(data_set.location.unique())"
      ],
      "metadata": {
        "colab": {
          "base_uri": "https://localhost:8080/"
        },
        "id": "BUkNhfb38zEc",
        "outputId": "79b374fa-2ef6-4443-95cd-787f1b00d1e1"
      },
      "execution_count": 65,
      "outputs": [
        {
          "output_type": "execute_result",
          "data": {
            "text/plain": [
              "236"
            ]
          },
          "metadata": {},
          "execution_count": 65
        }
      ]
    },
    {
      "cell_type": "code",
      "source": [
        "plt.figure(figsize=(15,6))\n",
        "sns.heatmap(data_set.corr(),cmap='Blues',annot=True)"
      ],
      "metadata": {
        "colab": {
          "base_uri": "https://localhost:8080/",
          "height": 409
        },
        "id": "ioWC70CLfJBe",
        "outputId": "19634345-2c9b-4def-fe80-b76b2524c0aa"
      },
      "execution_count": 66,
      "outputs": [
        {
          "output_type": "execute_result",
          "data": {
            "text/plain": [
              "<matplotlib.axes._subplots.AxesSubplot at 0x7fbcca90aa50>"
            ]
          },
          "metadata": {},
          "execution_count": 66
        },
        {
          "output_type": "display_data",
          "data": {
            "text/plain": [
              "<Figure size 1080x432 with 2 Axes>"
            ],
            "image/png": "[encoded data removed]"
          },
          "metadata": {}
        }
      ]
    },
    {
      "cell_type": "code",
      "source": [
        "data_set.corr()['price']"
      ],
      "metadata": {
        "colab": {
          "base_uri": "https://localhost:8080/"
        },
        "id": "K9zXAN96fuIV",
        "outputId": "477edb35-36be-428c-f814-975b8d905b53"
      },
      "execution_count": 67,
      "outputs": [
        {
          "output_type": "execute_result",
          "data": {
            "text/plain": [
              "size              0.406645\n",
              "total_sqft        0.558555\n",
              "bath              0.459320\n",
              "balcony           0.120407\n",
              "price             1.000000\n",
              "price_per_sqft    0.126068\n",
              "Name: price, dtype: float64"
            ]
          },
          "metadata": {},
          "execution_count": 67
        }
      ]
    },
    {
      "cell_type": "code",
      "source": [
        "data_set.corr()['price'].plot(kind = 'bar')\n",
        "plt.show()"
      ],
      "metadata": {
        "colab": {
          "base_uri": "https://localhost:8080/",
          "height": 374
        },
        "id": "qJuQqUIlgMfk",
        "outputId": "d106f010-8718-4a9d-a4e3-01c8c6e4fab3"
      },
      "execution_count": 68,
      "outputs": [
        {
          "output_type": "display_data",
          "data": {
            "text/plain": [
              "<Figure size 432x288 with 1 Axes>"
            ],
            "image/png": "[encoded data removed]"
          },
          "metadata": {}
        }
      ]
    },
    {
      "cell_type": "code",
      "source": [
        "data_set.columns"
      ],
      "metadata": {
        "colab": {
          "base_uri": "https://localhost:8080/"
        },
        "id": "vg7wlglHpTvY",
        "outputId": "f978ab08-d504-40c4-f604-60295a35bc66"
      },
      "execution_count": 69,
      "outputs": [
        {
          "output_type": "execute_result",
          "data": {
            "text/plain": [
              "Index(['area_type', 'availability', 'location', 'size', 'total_sqft', 'bath',\n",
              "       'balcony', 'price', 'price_per_sqft'],\n",
              "      dtype='object')"
            ]
          },
          "metadata": {},
          "execution_count": 69
        }
      ]
    },
    {
      "cell_type": "markdown",
      "source": [
        "# **Detecting and Removal of outliers**"
      ],
      "metadata": {
        "id": "BTND8oDnhJKd"
      }
    },
    {
      "cell_type": "code",
      "source": [
        "df=data_set.copy()\n",
        "df.drop([ 'availability','price_per_sqft' ,'balcony'],axis=1,inplace=True)\n"
      ],
      "metadata": {
        "id": "8p4CM35en90M"
      },
      "execution_count": 70,
      "outputs": []
    },
    {
      "cell_type": "code",
      "source": [
        "df.info()"
      ],
      "metadata": {
        "colab": {
          "base_uri": "https://localhost:8080/"
        },
        "id": "y0MzfxvenDCY",
        "outputId": "382b936e-d8aa-4fdb-8b3c-a4cf8fa110ab"
      },
      "execution_count": 71,
      "outputs": [
        {
          "output_type": "stream",
          "name": "stdout",
          "text": [
            "<class 'pandas.core.frame.DataFrame'>\n",
            "Int64Index: 12668 entries, 0 to 13319\n",
            "Data columns (total 6 columns):\n",
            " #   Column      Non-Null Count  Dtype  \n",
            "---  ------      --------------  -----  \n",
            " 0   area_type   12668 non-null  object \n",
            " 1   location    12668 non-null  object \n",
            " 2   size        12668 non-null  float64\n",
            " 3   total_sqft  12668 non-null  float64\n",
            " 4   bath        12668 non-null  float64\n",
            " 5   price       12668 non-null  float64\n",
            "dtypes: float64(4), object(2)\n",
            "memory usage: 1.2+ MB\n"
          ]
        }
      ]
    },
    {
      "cell_type": "code",
      "source": [
        "fig, ax = plt.subplots(ncols=2, nrows=2, figsize=(20,10))\n",
        "index = 0\n",
        "ax = ax.flatten()\n",
        "for i in ['size','total_sqft','bath','price']:\n",
        "\n",
        "      sns.boxplot(x= i,data=df,ax=ax[index],fliersize=True)\n",
        "      index += 1\n",
        "plt.tight_layout(pad=0.5, w_pad=0.7, h_pad=5.0)"
      ],
      "metadata": {
        "id": "0K0nIjcXguET",
        "colab": {
          "base_uri": "https://localhost:8080/",
          "height": 716
        },
        "outputId": "1b4b9af9-20aa-45b1-d9a2-00f0e5d66085"
      },
      "execution_count": 72,
      "outputs": [
        {
          "output_type": "display_data",
          "data": {
            "text/plain": [
              "<Figure size 1440x720 with 4 Axes>"
            ],
            "image/png": "[encoded data removed]"
          },
          "metadata": {}
        }
      ]
    },
    {
      "cell_type": "code",
      "source": [
        "df[(df.total_sqft/df.size<300)].head()"
      ],
      "metadata": {
        "colab": {
          "base_uri": "https://localhost:8080/",
          "height": 206
        },
        "id": "NIUTw4G3Xm5F",
        "outputId": "b2ac6844-bec6-46de-804c-9933e1127c77"
      },
      "execution_count": 73,
      "outputs": [
        {
          "output_type": "execute_result",
          "data": {
            "text/plain": [
              "              area_type                  location  size  total_sqft  bath  \\\n",
              "0  Super built-up  Area  Electronic City Phase II   2.0      1056.0   2.0   \n",
              "1            Plot  Area          Chikka Tirupathi   4.0      2600.0   5.0   \n",
              "2        Built-up  Area               Uttarahalli   3.0      1440.0   2.0   \n",
              "3  Super built-up  Area        Lingadheeranahalli   3.0      1521.0   3.0   \n",
              "4  Super built-up  Area                  Kothanur   2.0      1200.0   2.0   \n",
              "\n",
              "    price  \n",
              "0   39.07  \n",
              "1  120.00  \n",
              "2   62.00  \n",
              "3   95.00  \n",
              "4   51.00  "
            ],
            "text/html": [
              "\n",
              "  <div id=\"df-9e69b72b-c73d-487a-8ab3-ef6a5b9472b0\">\n",
              "    <div class=\"colab-df-container\">\n",
              "      <div>\n",
              "<style scoped>\n",
              "    .dataframe tbody tr th:only-of-type {\n",
              "        vertical-align: middle;\n",
              "    }\n",
              "\n",
              "    .dataframe tbody tr th {\n",
              "        vertical-align: top;\n",
              "    }\n",
              "\n",
              "    .dataframe thead th {\n",
              "        text-align: right;\n",
              "    }\n",
              "</style>\n",
              "<table border=\"1\" class=\"dataframe\">\n",
              "  <thead>\n",
              "    <tr style=\"text-align: right;\">\n",
              "      <th></th>\n",
              "      <th>area_type</th>\n",
              "      <th>location</th>\n",
              "      <th>size</th>\n",
              "      <th>total_sqft</th>\n",
              "      <th>bath</th>\n",
              "      <th>price</th>\n",
              "    </tr>\n",
              "  </thead>\n",
              "  <tbody>\n",
              "    <tr>\n",
              "      <th>0</th>\n",
              "      <td>Super built-up  Area</td>\n",
              "      <td>Electronic City Phase II</td>\n",
              "      <td>2.0</td>\n",
              "      <td>1056.0</td>\n",
              "      <td>2.0</td>\n",
              "      <td>39.07</td>\n",
              "    </tr>\n",
              "    <tr>\n",
              "      <th>1</th>\n",
              "      <td>Plot  Area</td>\n",
              "      <td>Chikka Tirupathi</td>\n",
              "      <td>4.0</td>\n",
              "      <td>2600.0</td>\n",
              "      <td>5.0</td>\n",
              "      <td>120.00</td>\n",
              "    </tr>\n",
              "    <tr>\n",
              "      <th>2</th>\n",
              "      <td>Built-up  Area</td>\n",
              "      <td>Uttarahalli</td>\n",
              "      <td>3.0</td>\n",
              "      <td>1440.0</td>\n",
              "      <td>2.0</td>\n",
              "      <td>62.00</td>\n",
              "    </tr>\n",
              "    <tr>\n",
              "      <th>3</th>\n",
              "      <td>Super built-up  Area</td>\n",
              "      <td>Lingadheeranahalli</td>\n",
              "      <td>3.0</td>\n",
              "      <td>1521.0</td>\n",
              "      <td>3.0</td>\n",
              "      <td>95.00</td>\n",
              "    </tr>\n",
              "    <tr>\n",
              "      <th>4</th>\n",
              "      <td>Super built-up  Area</td>\n",
              "      <td>Kothanur</td>\n",
              "      <td>2.0</td>\n",
              "      <td>1200.0</td>\n",
              "      <td>2.0</td>\n",
              "      <td>51.00</td>\n",
              "    </tr>\n",
              "  </tbody>\n",
              "</table>\n",
              "</div>\n",
              "      <button class=\"colab-df-convert\" onclick=\"convertToInteractive('df-9e69b72b-c73d-487a-8ab3-ef6a5b9472b0')\"\n",
              "              title=\"Convert this dataframe to an interactive table.\"\n",
              "              style=\"display:none;\">\n",
              "        \n",
              "  <svg xmlns=\"http://www.w3.org/2000/svg\" height=\"24px\"viewBox=\"0 0 24 24\"\n",
              "       width=\"24px\">\n",
              "    <path d=\"M0 0h24v24H0V0z\" fill=\"none\"/>\n",
              "    <path d=\"M18.56 5.44l.94 2.06.94-2.06 2.06-.94-2.06-.94-.94-2.06-.94 2.06-2.06.94zm-11 1L8.5 8.5l.94-2.06 2.06-.94-2.06-.94L8.5 2.5l-.94 2.06-2.06.94zm10 10l.94 2.06.94-2.06 2.06-.94-2.06-.94-.94-2.06-.94 2.06-2.06.94z\"/><path d=\"M17.41 7.96l-1.37-1.37c-.4-.4-.92-.59-1.43-.59-.52 0-1.04.2-1.43.59L10.3 9.45l-7.72 7.72c-.78.78-.78 2.05 0 2.83L4 21.41c.39.39.9.59 1.41.59.51 0 1.02-.2 1.41-.59l7.78-7.78 2.81-2.81c.8-.78.8-2.07 0-2.86zM5.41 20L4 18.59l7.72-7.72 1.47 1.35L5.41 20z\"/>\n",
              "  </svg>\n",
              "      </button>\n",
              "      \n",
              "  <style>\n",
              "    .colab-df-container {\n",
              "      display:flex;\n",
              "      flex-wrap:wrap;\n",
              "      gap: 12px;\n",
              "    }\n",
              "\n",
              "    .colab-df-convert {\n",
              "      background-color: #E8F0FE;\n",
              "      border: none;\n",
              "      border-radius: 50%;\n",
              "      cursor: pointer;\n",
              "      display: none;\n",
              "      fill: #1967D2;\n",
              "      height: 32px;\n",
              "      padding: 0 0 0 0;\n",
              "      width: 32px;\n",
              "    }\n",
              "\n",
              "    .colab-df-convert:hover {\n",
              "      background-color: #E2EBFA;\n",
              "      box-shadow: 0px 1px 2px rgba(60, 64, 67, 0.3), 0px 1px 3px 1px rgba(60, 64, 67, 0.15);\n",
              "      fill: #174EA6;\n",
              "    }\n",
              "\n",
              "    [theme=dark] .colab-df-convert {\n",
              "      background-color: #3B4455;\n",
              "      fill: #D2E3FC;\n",
              "    }\n",
              "\n",
              "    [theme=dark] .colab-df-convert:hover {\n",
              "      background-color: #434B5C;\n",
              "      box-shadow: 0px 1px 3px 1px rgba(0, 0, 0, 0.15);\n",
              "      filter: drop-shadow(0px 1px 2px rgba(0, 0, 0, 0.3));\n",
              "      fill: #FFFFFF;\n",
              "    }\n",
              "  </style>\n",
              "\n",
              "      <script>\n",
              "        const buttonEl =\n",
              "          document.querySelector('#df-9e69b72b-c73d-487a-8ab3-ef6a5b9472b0 button.colab-df-convert');\n",
              "        buttonEl.style.display =\n",
              "          google.colab.kernel.accessAllowed ? 'block' : 'none';\n",
              "\n",
              "        async function convertToInteractive(key) {\n",
              "          const element = document.querySelector('#df-9e69b72b-c73d-487a-8ab3-ef6a5b9472b0');\n",
              "          const dataTable =\n",
              "            await google.colab.kernel.invokeFunction('convertToInteractive',\n",
              "                                                     [key], {});\n",
              "          if (!dataTable) return;\n",
              "\n",
              "          const docLinkHtml = 'Like what you see? Visit the ' +\n",
              "            '<a target=\"_blank\" href=https://colab.research.google.com/notebooks/data_table.ipynb>data table notebook</a>'\n",
              "            + ' to learn more about interactive tables.';\n",
              "          element.innerHTML = '';\n",
              "          dataTable['output_type'] = 'display_data';\n",
              "          await google.colab.output.renderOutput(dataTable, element);\n",
              "          const docLink = document.createElement('div');\n",
              "          docLink.innerHTML = docLinkHtml;\n",
              "          element.appendChild(docLink);\n",
              "        }\n",
              "      </script>\n",
              "    </div>\n",
              "  </div>\n",
              "  "
            ]
          },
          "metadata": {},
          "execution_count": 73
        }
      ]
    },
    {
      "cell_type": "code",
      "source": [
        "df['size'].unique()"
      ],
      "metadata": {
        "colab": {
          "base_uri": "https://localhost:8080/"
        },
        "id": "7qlF8RQBrcBB",
        "outputId": "fdbed2ce-d040-4ba4-a9bb-918aac00c7d7"
      },
      "execution_count": 74,
      "outputs": [
        {
          "output_type": "execute_result",
          "data": {
            "text/plain": [
              "array([ 2.,  4.,  3.,  1.,  6.,  8.,  7.,  5., 11.,  9., 27., 43., 14.,\n",
              "       12., 10., 13.])"
            ]
          },
          "metadata": {},
          "execution_count": 74
        }
      ]
    },
    {
      "cell_type": "code",
      "source": [
        "df[df['size']>20]"
      ],
      "metadata": {
        "id": "N7-LjZ78r_j3",
        "colab": {
          "base_uri": "https://localhost:8080/",
          "height": 112
        },
        "outputId": "5156533e-c93f-4e62-f390-8bbab88340f4"
      },
      "execution_count": 75,
      "outputs": [
        {
          "output_type": "execute_result",
          "data": {
            "text/plain": [
              "                 area_type     location  size  total_sqft  bath  price\n",
              "1718  Super built-up  Area        other  27.0      8000.0  27.0  230.0\n",
              "4684            Plot  Area  Munnekollal  43.0      2400.0  40.0  660.0"
            ],
            "text/html": [
              "\n",
              "  <div id=\"df-faa44e7a-4daa-4286-be85-e355aed1d09a\">\n",
              "    <div class=\"colab-df-container\">\n",
              "      <div>\n",
              "<style scoped>\n",
              "    .dataframe tbody tr th:only-of-type {\n",
              "        vertical-align: middle;\n",
              "    }\n",
              "\n",
              "    .dataframe tbody tr th {\n",
              "        vertical-align: top;\n",
              "    }\n",
              "\n",
              "    .dataframe thead th {\n",
              "        text-align: right;\n",
              "    }\n",
              "</style>\n",
              "<table border=\"1\" class=\"dataframe\">\n",
              "  <thead>\n",
              "    <tr style=\"text-align: right;\">\n",
              "      <th></th>\n",
              "      <th>area_type</th>\n",
              "      <th>location</th>\n",
              "      <th>size</th>\n",
              "      <th>total_sqft</th>\n",
              "      <th>bath</th>\n",
              "      <th>price</th>\n",
              "    </tr>\n",
              "  </thead>\n",
              "  <tbody>\n",
              "    <tr>\n",
              "      <th>1718</th>\n",
              "      <td>Super built-up  Area</td>\n",
              "      <td>other</td>\n",
              "      <td>27.0</td>\n",
              "      <td>8000.0</td>\n",
              "      <td>27.0</td>\n",
              "      <td>230.0</td>\n",
              "    </tr>\n",
              "    <tr>\n",
              "      <th>4684</th>\n",
              "      <td>Plot  Area</td>\n",
              "      <td>Munnekollal</td>\n",
              "      <td>43.0</td>\n",
              "      <td>2400.0</td>\n",
              "      <td>40.0</td>\n",
              "      <td>660.0</td>\n",
              "    </tr>\n",
              "  </tbody>\n",
              "</table>\n",
              "</div>\n",
              "      <button class=\"colab-df-convert\" onclick=\"convertToInteractive('df-faa44e7a-4daa-4286-be85-e355aed1d09a')\"\n",
              "              title=\"Convert this dataframe to an interactive table.\"\n",
              "              style=\"display:none;\">\n",
              "        \n",
              "  <svg xmlns=\"http://www.w3.org/2000/svg\" height=\"24px\"viewBox=\"0 0 24 24\"\n",
              "       width=\"24px\">\n",
              "    <path d=\"M0 0h24v24H0V0z\" fill=\"none\"/>\n",
              "    <path d=\"M18.56 5.44l.94 2.06.94-2.06 2.06-.94-2.06-.94-.94-2.06-.94 2.06-2.06.94zm-11 1L8.5 8.5l.94-2.06 2.06-.94-2.06-.94L8.5 2.5l-.94 2.06-2.06.94zm10 10l.94 2.06.94-2.06 2.06-.94-2.06-.94-.94-2.06-.94 2.06-2.06.94z\"/><path d=\"M17.41 7.96l-1.37-1.37c-.4-.4-.92-.59-1.43-.59-.52 0-1.04.2-1.43.59L10.3 9.45l-7.72 7.72c-.78.78-.78 2.05 0 2.83L4 21.41c.39.39.9.59 1.41.59.51 0 1.02-.2 1.41-.59l7.78-7.78 2.81-2.81c.8-.78.8-2.07 0-2.86zM5.41 20L4 18.59l7.72-7.72 1.47 1.35L5.41 20z\"/>\n",
              "  </svg>\n",
              "      </button>\n",
              "      \n",
              "  <style>\n",
              "    .colab-df-container {\n",
              "      display:flex;\n",
              "      flex-wrap:wrap;\n",
              "      gap: 12px;\n",
              "    }\n",
              "\n",
              "    .colab-df-convert {\n",
              "      background-color: #E8F0FE;\n",
              "      border: none;\n",
              "      border-radius: 50%;\n",
              "      cursor: pointer;\n",
              "      display: none;\n",
              "      fill: #1967D2;\n",
              "      height: 32px;\n",
              "      padding: 0 0 0 0;\n",
              "      width: 32px;\n",
              "    }\n",
              "\n",
              "    .colab-df-convert:hover {\n",
              "      background-color: #E2EBFA;\n",
              "      box-shadow: 0px 1px 2px rgba(60, 64, 67, 0.3), 0px 1px 3px 1px rgba(60, 64, 67, 0.15);\n",
              "      fill: #174EA6;\n",
              "    }\n",
              "\n",
              "    [theme=dark] .colab-df-convert {\n",
              "      background-color: #3B4455;\n",
              "      fill: #D2E3FC;\n",
              "    }\n",
              "\n",
              "    [theme=dark] .colab-df-convert:hover {\n",
              "      background-color: #434B5C;\n",
              "      box-shadow: 0px 1px 3px 1px rgba(0, 0, 0, 0.15);\n",
              "      filter: drop-shadow(0px 1px 2px rgba(0, 0, 0, 0.3));\n",
              "      fill: #FFFFFF;\n",
              "    }\n",
              "  </style>\n",
              "\n",
              "      <script>\n",
              "        const buttonEl =\n",
              "          document.querySelector('#df-faa44e7a-4daa-4286-be85-e355aed1d09a button.colab-df-convert');\n",
              "        buttonEl.style.display =\n",
              "          google.colab.kernel.accessAllowed ? 'block' : 'none';\n",
              "\n",
              "        async function convertToInteractive(key) {\n",
              "          const element = document.querySelector('#df-faa44e7a-4daa-4286-be85-e355aed1d09a');\n",
              "          const dataTable =\n",
              "            await google.colab.kernel.invokeFunction('convertToInteractive',\n",
              "                                                     [key], {});\n",
              "          if (!dataTable) return;\n",
              "\n",
              "          const docLinkHtml = 'Like what you see? Visit the ' +\n",
              "            '<a target=\"_blank\" href=https://colab.research.google.com/notebooks/data_table.ipynb>data table notebook</a>'\n",
              "            + ' to learn more about interactive tables.';\n",
              "          element.innerHTML = '';\n",
              "          dataTable['output_type'] = 'display_data';\n",
              "          await google.colab.output.renderOutput(dataTable, element);\n",
              "          const docLink = document.createElement('div');\n",
              "          docLink.innerHTML = docLinkHtml;\n",
              "          element.appendChild(docLink);\n",
              "        }\n",
              "      </script>\n",
              "    </div>\n",
              "  </div>\n",
              "  "
            ]
          },
          "metadata": {},
          "execution_count": 75
        }
      ]
    },
    {
      "cell_type": "code",
      "source": [
        "#df=df.drop(size_drop)"
      ],
      "metadata": {
        "id": "RyQYKvh4TOXK"
      },
      "execution_count": null,
      "outputs": []
    },
    {
      "cell_type": "code",
      "source": [
        "df['bath'].unique()"
      ],
      "metadata": {
        "colab": {
          "base_uri": "https://localhost:8080/"
        },
        "id": "rXHbC6IO9ace",
        "outputId": "428b5312-98fa-4f67-da7f-548694e6162e"
      },
      "execution_count": 76,
      "outputs": [
        {
          "output_type": "execute_result",
          "data": {
            "text/plain": [
              "array([ 2.,  5.,  3.,  4.,  1.,  8.,  7.,  6.,  9., 27., 11., 12., 10.,\n",
              "       40., 15., 13.])"
            ]
          },
          "metadata": {},
          "execution_count": 76
        }
      ]
    },
    {
      "cell_type": "code",
      "source": [
        "df[df['bath']>10]"
      ],
      "metadata": {
        "id": "Q54pqblo9gRW",
        "colab": {
          "base_uri": "https://localhost:8080/",
          "height": 238
        },
        "outputId": "76a083ef-dee5-4be5-ba47-1ed8e85f6083"
      },
      "execution_count": 77,
      "outputs": [
        {
          "output_type": "execute_result",
          "data": {
            "text/plain": [
              "                 area_type     location  size  total_sqft  bath  price\n",
              "1718  Super built-up  Area        other  27.0      8000.0  27.0  230.0\n",
              "1768            Plot  Area        other  11.0      1200.0  11.0  170.0\n",
              "1979            Plot  Area        other   8.0       990.0  12.0  120.0\n",
              "4684            Plot  Area  Munnekollal  43.0      2400.0  40.0  660.0\n",
              "4916  Super built-up  Area        other  14.0      1250.0  15.0  125.0\n",
              "9935  Super built-up  Area        other  13.0      5425.0  13.0  275.0"
            ],
            "text/html": [
              "\n",
              "  <div id=\"df-cb91380d-608b-4404-a75a-0f81487dd0e6\">\n",
              "    <div class=\"colab-df-container\">\n",
              "      <div>\n",
              "<style scoped>\n",
              "    .dataframe tbody tr th:only-of-type {\n",
              "        vertical-align: middle;\n",
              "    }\n",
              "\n",
              "    .dataframe tbody tr th {\n",
              "        vertical-align: top;\n",
              "    }\n",
              "\n",
              "    .dataframe thead th {\n",
              "        text-align: right;\n",
              "    }\n",
              "</style>\n",
              "<table border=\"1\" class=\"dataframe\">\n",
              "  <thead>\n",
              "    <tr style=\"text-align: right;\">\n",
              "      <th></th>\n",
              "      <th>area_type</th>\n",
              "      <th>location</th>\n",
              "      <th>size</th>\n",
              "      <th>total_sqft</th>\n",
              "      <th>bath</th>\n",
              "      <th>price</th>\n",
              "    </tr>\n",
              "  </thead>\n",
              "  <tbody>\n",
              "    <tr>\n",
              "      <th>1718</th>\n",
              "      <td>Super built-up  Area</td>\n",
              "      <td>other</td>\n",
              "      <td>27.0</td>\n",
              "      <td>8000.0</td>\n",
              "      <td>27.0</td>\n",
              "      <td>230.0</td>\n",
              "    </tr>\n",
              "    <tr>\n",
              "      <th>1768</th>\n",
              "      <td>Plot  Area</td>\n",
              "      <td>other</td>\n",
              "      <td>11.0</td>\n",
              "      <td>1200.0</td>\n",
              "      <td>11.0</td>\n",
              "      <td>170.0</td>\n",
              "    </tr>\n",
              "    <tr>\n",
              "      <th>1979</th>\n",
              "      <td>Plot  Area</td>\n",
              "      <td>other</td>\n",
              "      <td>8.0</td>\n",
              "      <td>990.0</td>\n",
              "      <td>12.0</td>\n",
              "      <td>120.0</td>\n",
              "    </tr>\n",
              "    <tr>\n",
              "      <th>4684</th>\n",
              "      <td>Plot  Area</td>\n",
              "      <td>Munnekollal</td>\n",
              "      <td>43.0</td>\n",
              "      <td>2400.0</td>\n",
              "      <td>40.0</td>\n",
              "      <td>660.0</td>\n",
              "    </tr>\n",
              "    <tr>\n",
              "      <th>4916</th>\n",
              "      <td>Super built-up  Area</td>\n",
              "      <td>other</td>\n",
              "      <td>14.0</td>\n",
              "      <td>1250.0</td>\n",
              "      <td>15.0</td>\n",
              "      <td>125.0</td>\n",
              "    </tr>\n",
              "    <tr>\n",
              "      <th>9935</th>\n",
              "      <td>Super built-up  Area</td>\n",
              "      <td>other</td>\n",
              "      <td>13.0</td>\n",
              "      <td>5425.0</td>\n",
              "      <td>13.0</td>\n",
              "      <td>275.0</td>\n",
              "    </tr>\n",
              "  </tbody>\n",
              "</table>\n",
              "</div>\n",
              "      <button class=\"colab-df-convert\" onclick=\"convertToInteractive('df-cb91380d-608b-4404-a75a-0f81487dd0e6')\"\n",
              "              title=\"Convert this dataframe to an interactive table.\"\n",
              "              style=\"display:none;\">\n",
              "        \n",
              "  <svg xmlns=\"http://www.w3.org/2000/svg\" height=\"24px\"viewBox=\"0 0 24 24\"\n",
              "       width=\"24px\">\n",
              "    <path d=\"M0 0h24v24H0V0z\" fill=\"none\"/>\n",
              "    <path d=\"M18.56 5.44l.94 2.06.94-2.06 2.06-.94-2.06-.94-.94-2.06-.94 2.06-2.06.94zm-11 1L8.5 8.5l.94-2.06 2.06-.94-2.06-.94L8.5 2.5l-.94 2.06-2.06.94zm10 10l.94 2.06.94-2.06 2.06-.94-2.06-.94-.94-2.06-.94 2.06-2.06.94z\"/><path d=\"M17.41 7.96l-1.37-1.37c-.4-.4-.92-.59-1.43-.59-.52 0-1.04.2-1.43.59L10.3 9.45l-7.72 7.72c-.78.78-.78 2.05 0 2.83L4 21.41c.39.39.9.59 1.41.59.51 0 1.02-.2 1.41-.59l7.78-7.78 2.81-2.81c.8-.78.8-2.07 0-2.86zM5.41 20L4 18.59l7.72-7.72 1.47 1.35L5.41 20z\"/>\n",
              "  </svg>\n",
              "      </button>\n",
              "      \n",
              "  <style>\n",
              "    .colab-df-container {\n",
              "      display:flex;\n",
              "      flex-wrap:wrap;\n",
              "      gap: 12px;\n",
              "    }\n",
              "\n",
              "    .colab-df-convert {\n",
              "      background-color: #E8F0FE;\n",
              "      border: none;\n",
              "      border-radius: 50%;\n",
              "      cursor: pointer;\n",
              "      display: none;\n",
              "      fill: #1967D2;\n",
              "      height: 32px;\n",
              "      padding: 0 0 0 0;\n",
              "      width: 32px;\n",
              "    }\n",
              "\n",
              "    .colab-df-convert:hover {\n",
              "      background-color: #E2EBFA;\n",
              "      box-shadow: 0px 1px 2px rgba(60, 64, 67, 0.3), 0px 1px 3px 1px rgba(60, 64, 67, 0.15);\n",
              "      fill: #174EA6;\n",
              "    }\n",
              "\n",
              "    [theme=dark] .colab-df-convert {\n",
              "      background-color: #3B4455;\n",
              "      fill: #D2E3FC;\n",
              "    }\n",
              "\n",
              "    [theme=dark] .colab-df-convert:hover {\n",
              "      background-color: #434B5C;\n",
              "      box-shadow: 0px 1px 3px 1px rgba(0, 0, 0, 0.15);\n",
              "      filter: drop-shadow(0px 1px 2px rgba(0, 0, 0, 0.3));\n",
              "      fill: #FFFFFF;\n",
              "    }\n",
              "  </style>\n",
              "\n",
              "      <script>\n",
              "        const buttonEl =\n",
              "          document.querySelector('#df-cb91380d-608b-4404-a75a-0f81487dd0e6 button.colab-df-convert');\n",
              "        buttonEl.style.display =\n",
              "          google.colab.kernel.accessAllowed ? 'block' : 'none';\n",
              "\n",
              "        async function convertToInteractive(key) {\n",
              "          const element = document.querySelector('#df-cb91380d-608b-4404-a75a-0f81487dd0e6');\n",
              "          const dataTable =\n",
              "            await google.colab.kernel.invokeFunction('convertToInteractive',\n",
              "                                                     [key], {});\n",
              "          if (!dataTable) return;\n",
              "\n",
              "          const docLinkHtml = 'Like what you see? Visit the ' +\n",
              "            '<a target=\"_blank\" href=https://colab.research.google.com/notebooks/data_table.ipynb>data table notebook</a>'\n",
              "            + ' to learn more about interactive tables.';\n",
              "          element.innerHTML = '';\n",
              "          dataTable['output_type'] = 'display_data';\n",
              "          await google.colab.output.renderOutput(dataTable, element);\n",
              "          const docLink = document.createElement('div');\n",
              "          docLink.innerHTML = docLinkHtml;\n",
              "          element.appendChild(docLink);\n",
              "        }\n",
              "      </script>\n",
              "    </div>\n",
              "  </div>\n",
              "  "
            ]
          },
          "metadata": {},
          "execution_count": 77
        }
      ]
    },
    {
      "cell_type": "code",
      "source": [
        "#df=df.drop(bath_drop)"
      ],
      "metadata": {
        "id": "9RApRxnf9ySU"
      },
      "execution_count": null,
      "outputs": []
    },
    {
      "cell_type": "code",
      "source": [
        "df['total_sqft'].values"
      ],
      "metadata": {
        "colab": {
          "base_uri": "https://localhost:8080/"
        },
        "id": "Py9xfcMSY7kM",
        "outputId": "24fd5c79-a2c4-4759-ee37-32f56420a264"
      },
      "execution_count": 78,
      "outputs": [
        {
          "output_type": "execute_result",
          "data": {
            "text/plain": [
              "array([1056., 2600., 1440., ..., 1141., 4689.,  550.])"
            ]
          },
          "metadata": {},
          "execution_count": 78
        }
      ]
    },
    {
      "cell_type": "code",
      "source": [
        "#calculate interquartile range \n",
        "q3, q1 = np.percentile(df['total_sqft'], [75 ,25])\n",
        "iqr = q3 - q1\n",
        "upper=q3 +1.5*(iqr)\n",
        "lower=q1 -1.5*(iqr)\n",
        "print(upper,lower)"
      ],
      "metadata": {
        "colab": {
          "base_uri": "https://localhost:8080/"
        },
        "id": "2hRQUelIgnu1",
        "outputId": "efa6ba89-2a39-442d-fe2a-089f69b12460"
      },
      "execution_count": 79,
      "outputs": [
        {
          "output_type": "stream",
          "name": "stdout",
          "text": [
            "2450.0 290.0\n"
          ]
        }
      ]
    },
    {
      "cell_type": "code",
      "source": [
        "df[(df['total_sqft']<300) | (df['total_sqft']>2500)]"
      ],
      "metadata": {
        "colab": {
          "base_uri": "https://localhost:8080/",
          "height": 424
        },
        "id": "Rp-_1WnDYtiH",
        "outputId": "3c697acd-1259-4bbd-e73e-d42f8341449f"
      },
      "execution_count": 80,
      "outputs": [
        {
          "output_type": "execute_result",
          "data": {
            "text/plain": [
              "                  area_type          location  size  total_sqft  bath  price\n",
              "1                Plot  Area  Chikka Tirupathi   4.0      2600.0   5.0  120.0\n",
              "11               Plot  Area        Whitefield   4.0      2785.0   5.0  295.0\n",
              "18     Super built-up  Area             other   3.0      2770.0   4.0  290.0\n",
              "22               Plot  Area       Thanisandra   4.0      2800.0   5.0  380.0\n",
              "60               Plot  Area             other   3.0      4395.0   3.0  240.0\n",
              "...                     ...               ...   ...         ...   ...    ...\n",
              "13268  Super built-up  Area         EPIP Zone   4.0      3360.0   5.0  221.0\n",
              "13290  Super built-up  Area    Sarjapur  Road   4.0      4050.0   2.0  450.0\n",
              "13299  Super built-up  Area        Whitefield   4.0      2856.0   5.0  154.5\n",
              "13315        Built-up  Area        Whitefield   5.0      3453.0   4.0  231.0\n",
              "13318  Super built-up  Area   Padmanabhanagar   4.0      4689.0   4.0  488.0\n",
              "\n",
              "[971 rows x 6 columns]"
            ],
            "text/html": [
              "\n",
              "  <div id=\"df-b9fd73cf-bb8c-47e2-935a-98f3dabf56a4\">\n",
              "    <div class=\"colab-df-container\">\n",
              "      <div>\n",
              "<style scoped>\n",
              "    .dataframe tbody tr th:only-of-type {\n",
              "        vertical-align: middle;\n",
              "    }\n",
              "\n",
              "    .dataframe tbody tr th {\n",
              "        vertical-align: top;\n",
              "    }\n",
              "\n",
              "    .dataframe thead th {\n",
              "        text-align: right;\n",
              "    }\n",
              "</style>\n",
              "<table border=\"1\" class=\"dataframe\">\n",
              "  <thead>\n",
              "    <tr style=\"text-align: right;\">\n",
              "      <th></th>\n",
              "      <th>area_type</th>\n",
              "      <th>location</th>\n",
              "      <th>size</th>\n",
              "      <th>total_sqft</th>\n",
              "      <th>bath</th>\n",
              "      <th>price</th>\n",
              "    </tr>\n",
              "  </thead>\n",
              "  <tbody>\n",
              "    <tr>\n",
              "      <th>1</th>\n",
              "      <td>Plot  Area</td>\n",
              "      <td>Chikka Tirupathi</td>\n",
              "      <td>4.0</td>\n",
              "      <td>2600.0</td>\n",
              "      <td>5.0</td>\n",
              "      <td>120.0</td>\n",
              "    </tr>\n",
              "    <tr>\n",
              "      <th>11</th>\n",
              "      <td>Plot  Area</td>\n",
              "      <td>Whitefield</td>\n",
              "      <td>4.0</td>\n",
              "      <td>2785.0</td>\n",
              "      <td>5.0</td>\n",
              "      <td>295.0</td>\n",
              "    </tr>\n",
              "    <tr>\n",
              "      <th>18</th>\n",
              "      <td>Super built-up  Area</td>\n",
              "      <td>other</td>\n",
              "      <td>3.0</td>\n",
              "      <td>2770.0</td>\n",
              "      <td>4.0</td>\n",
              "      <td>290.0</td>\n",
              "    </tr>\n",
              "    <tr>\n",
              "      <th>22</th>\n",
              "      <td>Plot  Area</td>\n",
              "      <td>Thanisandra</td>\n",
              "      <td>4.0</td>\n",
              "      <td>2800.0</td>\n",
              "      <td>5.0</td>\n",
              "      <td>380.0</td>\n",
              "    </tr>\n",
              "    <tr>\n",
              "      <th>60</th>\n",
              "      <td>Plot  Area</td>\n",
              "      <td>other</td>\n",
              "      <td>3.0</td>\n",
              "      <td>4395.0</td>\n",
              "      <td>3.0</td>\n",
              "      <td>240.0</td>\n",
              "    </tr>\n",
              "    <tr>\n",
              "      <th>...</th>\n",
              "      <td>...</td>\n",
              "      <td>...</td>\n",
              "      <td>...</td>\n",
              "      <td>...</td>\n",
              "      <td>...</td>\n",
              "      <td>...</td>\n",
              "    </tr>\n",
              "    <tr>\n",
              "      <th>13268</th>\n",
              "      <td>Super built-up  Area</td>\n",
              "      <td>EPIP Zone</td>\n",
              "      <td>4.0</td>\n",
              "      <td>3360.0</td>\n",
              "      <td>5.0</td>\n",
              "      <td>221.0</td>\n",
              "    </tr>\n",
              "    <tr>\n",
              "      <th>13290</th>\n",
              "      <td>Super built-up  Area</td>\n",
              "      <td>Sarjapur  Road</td>\n",
              "      <td>4.0</td>\n",
              "      <td>4050.0</td>\n",
              "      <td>2.0</td>\n",
              "      <td>450.0</td>\n",
              "    </tr>\n",
              "    <tr>\n",
              "      <th>13299</th>\n",
              "      <td>Super built-up  Area</td>\n",
              "      <td>Whitefield</td>\n",
              "      <td>4.0</td>\n",
              "      <td>2856.0</td>\n",
              "      <td>5.0</td>\n",
              "      <td>154.5</td>\n",
              "    </tr>\n",
              "    <tr>\n",
              "      <th>13315</th>\n",
              "      <td>Built-up  Area</td>\n",
              "      <td>Whitefield</td>\n",
              "      <td>5.0</td>\n",
              "      <td>3453.0</td>\n",
              "      <td>4.0</td>\n",
              "      <td>231.0</td>\n",
              "    </tr>\n",
              "    <tr>\n",
              "      <th>13318</th>\n",
              "      <td>Super built-up  Area</td>\n",
              "      <td>Padmanabhanagar</td>\n",
              "      <td>4.0</td>\n",
              "      <td>4689.0</td>\n",
              "      <td>4.0</td>\n",
              "      <td>488.0</td>\n",
              "    </tr>\n",
              "  </tbody>\n",
              "</table>\n",
              "<p>971 rows × 6 columns</p>\n",
              "</div>\n",
              "      <button class=\"colab-df-convert\" onclick=\"convertToInteractive('df-b9fd73cf-bb8c-47e2-935a-98f3dabf56a4')\"\n",
              "              title=\"Convert this dataframe to an interactive table.\"\n",
              "              style=\"display:none;\">\n",
              "        \n",
              "  <svg xmlns=\"http://www.w3.org/2000/svg\" height=\"24px\"viewBox=\"0 0 24 24\"\n",
              "       width=\"24px\">\n",
              "    <path d=\"M0 0h24v24H0V0z\" fill=\"none\"/>\n",
              "    <path d=\"M18.56 5.44l.94 2.06.94-2.06 2.06-.94-2.06-.94-.94-2.06-.94 2.06-2.06.94zm-11 1L8.5 8.5l.94-2.06 2.06-.94-2.06-.94L8.5 2.5l-.94 2.06-2.06.94zm10 10l.94 2.06.94-2.06 2.06-.94-2.06-.94-.94-2.06-.94 2.06-2.06.94z\"/><path d=\"M17.41 7.96l-1.37-1.37c-.4-.4-.92-.59-1.43-.59-.52 0-1.04.2-1.43.59L10.3 9.45l-7.72 7.72c-.78.78-.78 2.05 0 2.83L4 21.41c.39.39.9.59 1.41.59.51 0 1.02-.2 1.41-.59l7.78-7.78 2.81-2.81c.8-.78.8-2.07 0-2.86zM5.41 20L4 18.59l7.72-7.72 1.47 1.35L5.41 20z\"/>\n",
              "  </svg>\n",
              "      </button>\n",
              "      \n",
              "  <style>\n",
              "    .colab-df-container {\n",
              "      display:flex;\n",
              "      flex-wrap:wrap;\n",
              "      gap: 12px;\n",
              "    }\n",
              "\n",
              "    .colab-df-convert {\n",
              "      background-color: #E8F0FE;\n",
              "      border: none;\n",
              "      border-radius: 50%;\n",
              "      cursor: pointer;\n",
              "      display: none;\n",
              "      fill: #1967D2;\n",
              "      height: 32px;\n",
              "      padding: 0 0 0 0;\n",
              "      width: 32px;\n",
              "    }\n",
              "\n",
              "    .colab-df-convert:hover {\n",
              "      background-color: #E2EBFA;\n",
              "      box-shadow: 0px 1px 2px rgba(60, 64, 67, 0.3), 0px 1px 3px 1px rgba(60, 64, 67, 0.15);\n",
              "      fill: #174EA6;\n",
              "    }\n",
              "\n",
              "    [theme=dark] .colab-df-convert {\n",
              "      background-color: #3B4455;\n",
              "      fill: #D2E3FC;\n",
              "    }\n",
              "\n",
              "    [theme=dark] .colab-df-convert:hover {\n",
              "      background-color: #434B5C;\n",
              "      box-shadow: 0px 1px 3px 1px rgba(0, 0, 0, 0.15);\n",
              "      filter: drop-shadow(0px 1px 2px rgba(0, 0, 0, 0.3));\n",
              "      fill: #FFFFFF;\n",
              "    }\n",
              "  </style>\n",
              "\n",
              "      <script>\n",
              "        const buttonEl =\n",
              "          document.querySelector('#df-b9fd73cf-bb8c-47e2-935a-98f3dabf56a4 button.colab-df-convert');\n",
              "        buttonEl.style.display =\n",
              "          google.colab.kernel.accessAllowed ? 'block' : 'none';\n",
              "\n",
              "        async function convertToInteractive(key) {\n",
              "          const element = document.querySelector('#df-b9fd73cf-bb8c-47e2-935a-98f3dabf56a4');\n",
              "          const dataTable =\n",
              "            await google.colab.kernel.invokeFunction('convertToInteractive',\n",
              "                                                     [key], {});\n",
              "          if (!dataTable) return;\n",
              "\n",
              "          const docLinkHtml = 'Like what you see? Visit the ' +\n",
              "            '<a target=\"_blank\" href=https://colab.research.google.com/notebooks/data_table.ipynb>data table notebook</a>'\n",
              "            + ' to learn more about interactive tables.';\n",
              "          element.innerHTML = '';\n",
              "          dataTable['output_type'] = 'display_data';\n",
              "          await google.colab.output.renderOutput(dataTable, element);\n",
              "          const docLink = document.createElement('div');\n",
              "          docLink.innerHTML = docLinkHtml;\n",
              "          element.appendChild(docLink);\n",
              "        }\n",
              "      </script>\n",
              "    </div>\n",
              "  </div>\n",
              "  "
            ]
          },
          "metadata": {},
          "execution_count": 80
        }
      ]
    },
    {
      "cell_type": "code",
      "source": [
        "#sqft_drop=df.index[(df['total_sqft']<300) | (df['total_sqft']>2500)]"
      ],
      "metadata": {
        "id": "XZkXYo09bYIE"
      },
      "execution_count": null,
      "outputs": []
    },
    {
      "cell_type": "code",
      "source": [
        "#df=df.drop(sqft_drop)"
      ],
      "metadata": {
        "id": "f1Ga6X0rbj-H"
      },
      "execution_count": null,
      "outputs": []
    },
    {
      "cell_type": "markdown",
      "source": [
        "# **Model selection and Model Training**"
      ],
      "metadata": {
        "id": "Rm1Y58jPZw8j"
      }
    },
    {
      "cell_type": "code",
      "source": [
        "df= pd.get_dummies(df,drop_first=True)"
      ],
      "metadata": {
        "id": "i4ZVF5fk7kAb"
      },
      "execution_count": 81,
      "outputs": []
    },
    {
      "cell_type": "code",
      "source": [
        "x = df.drop(columns=['price'])\n",
        "y = df['price']"
      ],
      "metadata": {
        "id": "CwX5PY8FnDHf"
      },
      "execution_count": 82,
      "outputs": []
    },
    {
      "cell_type": "code",
      "source": [
        "print(x.shape)\n",
        "print(y.shape)"
      ],
      "metadata": {
        "colab": {
          "base_uri": "https://localhost:8080/"
        },
        "id": "23iCWOMpaHzi",
        "outputId": "aed55c35-06dc-42fc-a1a8-c2269fa6268f"
      },
      "execution_count": 83,
      "outputs": [
        {
          "output_type": "stream",
          "name": "stdout",
          "text": [
            "(12668, 241)\n",
            "(12668,)\n"
          ]
        }
      ]
    },
    {
      "cell_type": "code",
      "source": [
        "from sklearn.model_selection import train_test_split\n",
        "x_train,x_test,y_train,y_test=train_test_split(x,y,test_size=0.2,random_state=42)\n"
      ],
      "metadata": {
        "id": "MQgA7hCAaUt_"
      },
      "execution_count": 84,
      "outputs": []
    },
    {
      "cell_type": "code",
      "source": [
        "print('The shape of x_train =',x_train.shape)\n",
        "print('The shape of x_test = ',x_test.shape)\n",
        "print('The shape of y_train = ',y_train.shape)\n",
        "print('The shape of y_test = ',y_test.shape)"
      ],
      "metadata": {
        "colab": {
          "base_uri": "https://localhost:8080/"
        },
        "id": "u5IYkGT-akKQ",
        "outputId": "c50d087c-5680-4c66-f9b5-f4eb8bbbd6d4"
      },
      "execution_count": 85,
      "outputs": [
        {
          "output_type": "stream",
          "name": "stdout",
          "text": [
            "The shape of x_train = (10134, 241)\n",
            "The shape of x_test =  (2534, 241)\n",
            "The shape of y_train =  (10134,)\n",
            "The shape of y_test =  (2534,)\n"
          ]
        }
      ]
    },
    {
      "cell_type": "code",
      "source": [
        "from sklearn.preprocessing import StandardScaler\n",
        "sc=StandardScaler()\n",
        "sc.fit_transform(x_train)"
      ],
      "metadata": {
        "colab": {
          "base_uri": "https://localhost:8080/"
        },
        "id": "FF6BH-Xqybd6",
        "outputId": "76f2fdc7-5cc8-4af9-9357-d71658209cca"
      },
      "execution_count": 86,
      "outputs": [
        {
          "output_type": "execute_result",
          "data": {
            "text/plain": [
              "array([[ 0.21167746,  1.7908644 ,  1.10057627, ..., -0.03142852,\n",
              "        -0.07717465, -0.52398155],\n",
              "       [-0.59842049, -0.46615162, -0.49342686, ..., -0.03142852,\n",
              "        -0.07717465, -0.52398155],\n",
              "       [-0.59842049, -0.48273378, -0.49342686, ..., -0.03142852,\n",
              "        -0.07717465, -0.52398155],\n",
              "       ...,\n",
              "       [-0.59842049, -0.30033003, -0.49342686, ..., -0.03142852,\n",
              "        -0.07717465, -0.52398155],\n",
              "       [-1.40851844, -0.75541816, -1.29042843, ..., -0.03142852,\n",
              "        -0.07717465,  1.90846416],\n",
              "       [-1.40851844, -0.66513752, -1.29042843, ..., -0.03142852,\n",
              "        -0.07717465, -0.52398155]])"
            ]
          },
          "metadata": {},
          "execution_count": 86
        }
      ]
    },
    {
      "cell_type": "markdown",
      "source": [
        "# **Applying Linear Regresion**"
      ],
      "metadata": {
        "id": "SJ6xnh69v2Gb"
      }
    },
    {
      "cell_type": "code",
      "source": [
        "from sklearn import linear_model\n",
        "lm=linear_model.LinearRegression()\n",
        "lm.fit(x_train,y_train)\n"
      ],
      "metadata": {
        "colab": {
          "base_uri": "https://localhost:8080/"
        },
        "id": "r54M0erVbLqP",
        "outputId": "2a8a352a-3a79-491f-b687-2463a3f471ef"
      },
      "execution_count": 89,
      "outputs": [
        {
          "output_type": "execute_result",
          "data": {
            "text/plain": [
              "LinearRegression()"
            ]
          },
          "metadata": {},
          "execution_count": 89
        }
      ]
    },
    {
      "cell_type": "code",
      "source": [
        "test_pred = lm.predict(x_test)\n",
        "train_pred=lm.predict(x_train)"
      ],
      "metadata": {
        "id": "tyMKrlildnWu"
      },
      "execution_count": 90,
      "outputs": []
    },
    {
      "cell_type": "code",
      "source": [
        "lm_score = lm.score(x_test,y_test)"
      ],
      "metadata": {
        "id": "G2mN-nfOrkJh"
      },
      "execution_count": 91,
      "outputs": []
    },
    {
      "cell_type": "code",
      "source": [
        "print(lm_score*100,'%')"
      ],
      "metadata": {
        "colab": {
          "base_uri": "https://localhost:8080/"
        },
        "id": "LXDU7mnCrsVV",
        "outputId": "3e6be3ed-b2c7-4709-96d9-ea97a5500dd4"
      },
      "execution_count": 92,
      "outputs": [
        {
          "output_type": "stream",
          "name": "stdout",
          "text": [
            "43.726634996083305 %\n"
          ]
        }
      ]
    },
    {
      "cell_type": "markdown",
      "source": [
        "# **Applying Random Forest Regressor**"
      ],
      "metadata": {
        "id": "Ak9LZbwRsA1R"
      }
    },
    {
      "cell_type": "code",
      "source": [
        "from sklearn.ensemble import RandomForestRegressor\n",
        "rfr=RandomForestRegressor(n_estimators=10)\n",
        "rfr.fit(x_train, y_train)"
      ],
      "metadata": {
        "colab": {
          "base_uri": "https://localhost:8080/"
        },
        "id": "0ibQU2j5r5ZF",
        "outputId": "309905c8-5c27-4998-dc59-4bbe88404001"
      },
      "execution_count": 93,
      "outputs": [
        {
          "output_type": "execute_result",
          "data": {
            "text/plain": [
              "RandomForestRegressor(n_estimators=10)"
            ]
          },
          "metadata": {},
          "execution_count": 93
        }
      ]
    },
    {
      "cell_type": "code",
      "source": [
        "test_pred = rfr.predict(x_test)\n",
        "train_pred=rfr.predict(x_train)"
      ],
      "metadata": {
        "id": "T0knXKUKscTK"
      },
      "execution_count": 94,
      "outputs": []
    },
    {
      "cell_type": "code",
      "source": [
        "rfr_score = rfr.score(x_test,y_test)"
      ],
      "metadata": {
        "id": "Uex5lsv1s6zq"
      },
      "execution_count": 95,
      "outputs": []
    },
    {
      "cell_type": "code",
      "source": [
        "print(rfr_score*100,'%')"
      ],
      "metadata": {
        "colab": {
          "base_uri": "https://localhost:8080/"
        },
        "id": "tao9LfT2tFjj",
        "outputId": "96539541-87d2-4764-a30a-0f79078106a2"
      },
      "execution_count": 96,
      "outputs": [
        {
          "output_type": "stream",
          "name": "stdout",
          "text": [
            "65.04316730641075 %\n"
          ]
        }
      ]
    },
    {
      "cell_type": "markdown",
      "source": [
        "# **Applying Decision Tree regression**"
      ],
      "metadata": {
        "id": "w9JMRgQhvqDb"
      }
    },
    {
      "cell_type": "code",
      "source": [
        "from sklearn.tree import DecisionTreeRegressor\n",
        "dtr=DecisionTreeRegressor()\n",
        "dtr.fit(x_train,y_train)"
      ],
      "metadata": {
        "colab": {
          "base_uri": "https://localhost:8080/"
        },
        "id": "VUgRUOIjtIpi",
        "outputId": "99098ec6-b0f0-46e4-a6f4-3279d92735ea"
      },
      "execution_count": 97,
      "outputs": [
        {
          "output_type": "execute_result",
          "data": {
            "text/plain": [
              "DecisionTreeRegressor()"
            ]
          },
          "metadata": {},
          "execution_count": 97
        }
      ]
    },
    {
      "cell_type": "code",
      "source": [
        "test_pred = dtr.predict(x_test)\n",
        "train_pred=dtr.predict(x_train)"
      ],
      "metadata": {
        "id": "opppCL7Bt3vi"
      },
      "execution_count": 98,
      "outputs": []
    },
    {
      "cell_type": "code",
      "source": [
        "dtr_score = dtr.score(x_test,y_test)"
      ],
      "metadata": {
        "id": "NGkILZKbuTHk"
      },
      "execution_count": 99,
      "outputs": []
    },
    {
      "cell_type": "code",
      "source": [
        "print(dtr_score*100,'%')"
      ],
      "metadata": {
        "colab": {
          "base_uri": "https://localhost:8080/"
        },
        "id": "LNlfSOJ1ub3E",
        "outputId": "adc2f043-06c4-43d9-9b23-81d6ce2f8f0b"
      },
      "execution_count": 100,
      "outputs": [
        {
          "output_type": "stream",
          "name": "stdout",
          "text": [
            "44.74859910480728 %\n"
          ]
        }
      ]
    },
    {
      "cell_type": "markdown",
      "source": [
        "# **Applying KNeighbors Regressor**"
      ],
      "metadata": {
        "id": "fkgT50HmwBmT"
      }
    },
    {
      "cell_type": "code",
      "source": [
        "from sklearn.neighbors import KNeighborsRegressor\n",
        "knn = KNeighborsRegressor(n_neighbors=10)\n",
        "knn.fit(x_train, y_train)"
      ],
      "metadata": {
        "colab": {
          "base_uri": "https://localhost:8080/"
        },
        "id": "H0DJxJa0ufSs",
        "outputId": "46531be1-037d-4e1a-fba2-e21148e2d456"
      },
      "execution_count": 101,
      "outputs": [
        {
          "output_type": "execute_result",
          "data": {
            "text/plain": [
              "KNeighborsRegressor(n_neighbors=10)"
            ]
          },
          "metadata": {},
          "execution_count": 101
        }
      ]
    },
    {
      "cell_type": "code",
      "source": [
        "y_pred = knn.predict(x_test)"
      ],
      "metadata": {
        "id": "LTuGADwOu23z"
      },
      "execution_count": 102,
      "outputs": []
    },
    {
      "cell_type": "code",
      "source": [
        "knn_score =knn.score(x_test,y_test)"
      ],
      "metadata": {
        "id": "5uXxz8lyu74B"
      },
      "execution_count": 103,
      "outputs": []
    },
    {
      "cell_type": "code",
      "source": [
        "print(knn_score*100,'%')"
      ],
      "metadata": {
        "id": "QRvRDwZbvfsY",
        "colab": {
          "base_uri": "https://localhost:8080/"
        },
        "outputId": "4eaa169a-4fbd-4b6b-cadf-896de736df3a"
      },
      "execution_count": 104,
      "outputs": [
        {
          "output_type": "stream",
          "name": "stdout",
          "text": [
            "62.58066996012537 %\n"
          ]
        }
      ]
    },
    {
      "cell_type": "markdown",
      "source": [
        "# **score table**"
      ],
      "metadata": {
        "id": "7B-uIxfVUHVm"
      }
    },
    {
      "cell_type": "code",
      "source": [
        "Model_Comparison = pd.DataFrame({\n",
        "    'Model' : ['Linear Regression','Random Forest Regression','Decision Tree Regression','KNeighbors regression'],\n",
        "    'Scores_test': [lm_score* 100 ,rfr_score* 100,dtr_score* 100,knn_score* 100]\n",
        "    })\n",
        "Model_Comparison"
      ],
      "metadata": {
        "colab": {
          "base_uri": "https://localhost:8080/",
          "height": 175
        },
        "id": "DgXCeqZfUGtZ",
        "outputId": "f786eddf-9f3e-494c-9cc3-843a3839a8b2"
      },
      "execution_count": 105,
      "outputs": [
        {
          "output_type": "execute_result",
          "data": {
            "text/plain": [
              "                      Model  Scores_test\n",
              "0         Linear Regression    43.726635\n",
              "1  Random Forest Regression    65.043167\n",
              "2  Decision Tree Regression    44.748599\n",
              "3     KNeighbors regression    62.580670"
            ],
            "text/html": [
              "\n",
              "  <div id=\"df-c7aec7a7-b1dc-4d4a-b499-f5e78a24ad74\">\n",
              "    <div class=\"colab-df-container\">\n",
              "      <div>\n",
              "<style scoped>\n",
              "    .dataframe tbody tr th:only-of-type {\n",
              "        vertical-align: middle;\n",
              "    }\n",
              "\n",
              "    .dataframe tbody tr th {\n",
              "        vertical-align: top;\n",
              "    }\n",
              "\n",
              "    .dataframe thead th {\n",
              "        text-align: right;\n",
              "    }\n",
              "</style>\n",
              "<table border=\"1\" class=\"dataframe\">\n",
              "  <thead>\n",
              "    <tr style=\"text-align: right;\">\n",
              "      <th></th>\n",
              "      <th>Model</th>\n",
              "      <th>Scores_test</th>\n",
              "    </tr>\n",
              "  </thead>\n",
              "  <tbody>\n",
              "    <tr>\n",
              "      <th>0</th>\n",
              "      <td>Linear Regression</td>\n",
              "      <td>43.726635</td>\n",
              "    </tr>\n",
              "    <tr>\n",
              "      <th>1</th>\n",
              "      <td>Random Forest Regression</td>\n",
              "      <td>65.043167</td>\n",
              "    </tr>\n",
              "    <tr>\n",
              "      <th>2</th>\n",
              "      <td>Decision Tree Regression</td>\n",
              "      <td>44.748599</td>\n",
              "    </tr>\n",
              "    <tr>\n",
              "      <th>3</th>\n",
              "      <td>KNeighbors regression</td>\n",
              "      <td>62.580670</td>\n",
              "    </tr>\n",
              "  </tbody>\n",
              "</table>\n",
              "</div>\n",
              "      <button class=\"colab-df-convert\" onclick=\"convertToInteractive('df-c7aec7a7-b1dc-4d4a-b499-f5e78a24ad74')\"\n",
              "              title=\"Convert this dataframe to an interactive table.\"\n",
              "              style=\"display:none;\">\n",
              "        \n",
              "  <svg xmlns=\"http://www.w3.org/2000/svg\" height=\"24px\"viewBox=\"0 0 24 24\"\n",
              "       width=\"24px\">\n",
              "    <path d=\"M0 0h24v24H0V0z\" fill=\"none\"/>\n",
              "    <path d=\"M18.56 5.44l.94 2.06.94-2.06 2.06-.94-2.06-.94-.94-2.06-.94 2.06-2.06.94zm-11 1L8.5 8.5l.94-2.06 2.06-.94-2.06-.94L8.5 2.5l-.94 2.06-2.06.94zm10 10l.94 2.06.94-2.06 2.06-.94-2.06-.94-.94-2.06-.94 2.06-2.06.94z\"/><path d=\"M17.41 7.96l-1.37-1.37c-.4-.4-.92-.59-1.43-.59-.52 0-1.04.2-1.43.59L10.3 9.45l-7.72 7.72c-.78.78-.78 2.05 0 2.83L4 21.41c.39.39.9.59 1.41.59.51 0 1.02-.2 1.41-.59l7.78-7.78 2.81-2.81c.8-.78.8-2.07 0-2.86zM5.41 20L4 18.59l7.72-7.72 1.47 1.35L5.41 20z\"/>\n",
              "  </svg>\n",
              "      </button>\n",
              "      \n",
              "  <style>\n",
              "    .colab-df-container {\n",
              "      display:flex;\n",
              "      flex-wrap:wrap;\n",
              "      gap: 12px;\n",
              "    }\n",
              "\n",
              "    .colab-df-convert {\n",
              "      background-color: #E8F0FE;\n",
              "      border: none;\n",
              "      border-radius: 50%;\n",
              "      cursor: pointer;\n",
              "      display: none;\n",
              "      fill: #1967D2;\n",
              "      height: 32px;\n",
              "      padding: 0 0 0 0;\n",
              "      width: 32px;\n",
              "    }\n",
              "\n",
              "    .colab-df-convert:hover {\n",
              "      background-color: #E2EBFA;\n",
              "      box-shadow: 0px 1px 2px rgba(60, 64, 67, 0.3), 0px 1px 3px 1px rgba(60, 64, 67, 0.15);\n",
              "      fill: #174EA6;\n",
              "    }\n",
              "\n",
              "    [theme=dark] .colab-df-convert {\n",
              "      background-color: #3B4455;\n",
              "      fill: #D2E3FC;\n",
              "    }\n",
              "\n",
              "    [theme=dark] .colab-df-convert:hover {\n",
              "      background-color: #434B5C;\n",
              "      box-shadow: 0px 1px 3px 1px rgba(0, 0, 0, 0.15);\n",
              "      filter: drop-shadow(0px 1px 2px rgba(0, 0, 0, 0.3));\n",
              "      fill: #FFFFFF;\n",
              "    }\n",
              "  </style>\n",
              "\n",
              "      <script>\n",
              "        const buttonEl =\n",
              "          document.querySelector('#df-c7aec7a7-b1dc-4d4a-b499-f5e78a24ad74 button.colab-df-convert');\n",
              "        buttonEl.style.display =\n",
              "          google.colab.kernel.accessAllowed ? 'block' : 'none';\n",
              "\n",
              "        async function convertToInteractive(key) {\n",
              "          const element = document.querySelector('#df-c7aec7a7-b1dc-4d4a-b499-f5e78a24ad74');\n",
              "          const dataTable =\n",
              "            await google.colab.kernel.invokeFunction('convertToInteractive',\n",
              "                                                     [key], {});\n",
              "          if (!dataTable) return;\n",
              "\n",
              "          const docLinkHtml = 'Like what you see? Visit the ' +\n",
              "            '<a target=\"_blank\" href=https://colab.research.google.com/notebooks/data_table.ipynb>data table notebook</a>'\n",
              "            + ' to learn more about interactive tables.';\n",
              "          element.innerHTML = '';\n",
              "          dataTable['output_type'] = 'display_data';\n",
              "          await google.colab.output.renderOutput(dataTable, element);\n",
              "          const docLink = document.createElement('div');\n",
              "          docLink.innerHTML = docLinkHtml;\n",
              "          element.appendChild(docLink);\n",
              "        }\n",
              "      </script>\n",
              "    </div>\n",
              "  </div>\n",
              "  "
            ]
          },
          "metadata": {},
          "execution_count": 105
        }
      ]
    },
    {
      "cell_type": "markdown",
      "source": [
        "# **Feature Selection:**"
      ],
      "metadata": {
        "id": "_ypSuLufesKW"
      }
    },
    {
      "cell_type": "code",
      "source": [
        "feat_labels=x_train.columns\n"
      ],
      "metadata": {
        "id": "mVrotcW9CreS"
      },
      "execution_count": 106,
      "outputs": []
    },
    {
      "cell_type": "code",
      "source": [
        "importances = rfr.feature_importances_\n",
        "sorted_indices = np.argsort(importances)[::-1]"
      ],
      "metadata": {
        "id": "8diqZuIZGeyJ"
      },
      "execution_count": 107,
      "outputs": []
    },
    {
      "cell_type": "code",
      "source": [
        "for f in range(x_train.shape[1]):\n",
        "    print(\"%2d) %-*s %f\" % (f + 1, 30,\n",
        "                            feat_labels[sorted_indices[f]],\n",
        "                            importances[sorted_indices[f]]))"
      ],
      "metadata": {
        "colab": {
          "base_uri": "https://localhost:8080/"
        },
        "id": "jXrBtxzIG0ES",
        "outputId": "26ceadc1-79a7-4135-eb7e-9d7a0d38ffe2"
      },
      "execution_count": 108,
      "outputs": [
        {
          "output_type": "stream",
          "name": "stdout",
          "text": [
            " 1) total_sqft                     0.642564\n",
            " 2) bath                           0.087029\n",
            " 3) size                           0.063454\n",
            " 4) location_other                 0.026174\n",
            " 5) location_Bommenahalli          0.024193\n",
            " 6) area_type_Plot  Area           0.017967\n",
            " 7) area_type_Super built-up  Area 0.017453\n",
            " 8) location_Malleshwaram          0.016050\n",
            " 9) location_Rajaji Nagar          0.011457\n",
            "10) location_Cunningham Road       0.009253\n",
            "11) location_Whitefield            0.005973\n",
            "12) location_Ramagondanahalli      0.005646\n",
            "13) location_Koramangala           0.003437\n",
            "14) location_Indira Nagar          0.003385\n",
            "15) location_Benson Town           0.003200\n",
            "16) location_Sarjapur  Road        0.002794\n",
            "17) location_Kothanur              0.002702\n",
            "18) location_Kodihalli             0.002385\n",
            "19) location_Chamrajpet            0.002305\n",
            "20) location_Domlur                0.001854\n",
            "21) location_Ulsoor                0.001831\n",
            "22) location_Hebbal                0.001630\n",
            "23) location_Kundalahalli          0.001457\n",
            "24) location_Frazer Town           0.001395\n",
            "25) location_Old Airport Road      0.001353\n",
            "26) location_Basavangudi           0.001277\n",
            "27) location_Banaswadi             0.001234\n",
            "28) location_Yelahanka New Town    0.001034\n",
            "29) location_BTM 2nd Stage         0.001028\n",
            "30) location_Sarjapur              0.000995\n",
            "31) location_Banashankari Stage II 0.000957\n",
            "32) location_Mahalakshmi Layout    0.000938\n",
            "33) location_Giri Nagar            0.000921\n",
            "34) location_Seegehalli            0.000882\n",
            "35) location_Bannerghatta Road     0.000860\n",
            "36) location_Hosakerehalli         0.000857\n",
            "37) location_Vijayanagar           0.000831\n",
            "38) location_Sarakki Nagar         0.000818\n",
            "39) location_1st Phase JP Nagar    0.000794\n",
            "40) location_Nagarbhavi            0.000783\n",
            "41) location_Ambedkar Nagar        0.000717\n",
            "42) location_Banashankari Stage III 0.000702\n",
            "43) location_Dodda Nekkundi        0.000679\n",
            "44) location_Marathahalli          0.000675\n",
            "45) location_7th Phase JP Nagar    0.000576\n",
            "46) location_Yelahanka             0.000572\n",
            "47) location_Raja Rajeshwari Nagar 0.000565\n",
            "48) location_Hebbal Kempapura      0.000539\n",
            "49) location_Old Madras Road       0.000504\n",
            "50) location_Chikka Tirupathi      0.000488\n",
            "51) location_Uttarahalli           0.000476\n",
            "52) location_HSR Layout            0.000474\n",
            "53) location_R.T. Nagar            0.000473\n",
            "54) location_Devanahalli           0.000450\n",
            "55) location_Brookefield           0.000450\n",
            "56) location_Hoodi                 0.000446\n",
            "57) location_Cooke Town            0.000431\n",
            "58) location_Hegde Nagar           0.000429\n",
            "59) location_Banashankari          0.000423\n",
            "60) location_Banashankari Stage VI 0.000416\n",
            "61) location_Bellandur             0.000416\n",
            "62) location_Electronic City Phase II 0.000392\n",
            "63) location_Neeladri Nagar        0.000373\n",
            "64) location_2nd Stage Nagarbhavi  0.000372\n",
            "65) location_Cox Town              0.000368\n",
            "66) location_Hennur Road           0.000365\n",
            "67) location_Konanakunte           0.000359\n",
            "68) location_Basaveshwara Nagar    0.000340\n",
            "69) location_Hosur Road            0.000331\n",
            "70) location_Binny Pete            0.000317\n",
            "71) location_Thanisandra           0.000316\n",
            "72) location_Ramamurthy Nagar      0.000311\n",
            "73) location_JP Nagar              0.000310\n",
            "74) location_Laggere               0.000286\n",
            "75) location_Begur                 0.000278\n",
            "76) location_HRBR Layout           0.000277\n",
            "77) location_Jakkur                0.000267\n",
            "78) location_Kumaraswami Layout    0.000259\n",
            "79) location_Iblur Village         0.000251\n",
            "80) location_KR Puram              0.000247\n",
            "81) location_Sanjay nagar          0.000232\n",
            "82) location_Anekal                0.000228\n",
            "83) location_Channasandra          0.000225\n",
            "84) location_Yeshwanthpur          0.000225\n",
            "85) location_Kasturi Nagar         0.000223\n",
            "86) location_Kanakpura Road        0.000221\n",
            "87) location_Padmanabhanagar       0.000218\n",
            "88) location_TC Palaya             0.000207\n",
            "89) location_ISRO Layout           0.000203\n",
            "90) location_Judicial Layout       0.000201\n",
            "91) location_Chandapura            0.000196\n",
            "92) location_Kothannur             0.000191\n",
            "93) area_type_Carpet  Area         0.000191\n",
            "94) location_OMBR Layout           0.000191\n",
            "95) location_Attibele              0.000184\n",
            "96) location_HBR Layout            0.000184\n",
            "97) location_Sahakara Nagar        0.000170\n",
            "98) location_Kudlu Gate            0.000164\n",
            "99) location_Hormavu               0.000156\n",
            "100) location_EPIP Zone             0.000155\n",
            "101) location_Kogilu                0.000155\n",
            "102) location_Hulimavu              0.000155\n",
            "103) location_Thigalarapalya        0.000152\n",
            "104) location_Haralur Road          0.000144\n",
            "105) location_Ambalipura            0.000144\n",
            "106) location_Electronic City       0.000142\n",
            "107) location_Gottigere             0.000140\n",
            "108) location_Kadubeesanahalli      0.000136\n",
            "109) location_Hosa Road             0.000134\n",
            "110) location_8th Phase JP Nagar    0.000134\n",
            "111) location_Begur Road            0.000127\n",
            "112) location_Prithvi Layout        0.000127\n",
            "113) location_Lakshminarayana Pura  0.000126\n",
            "114) location_Munnekollal           0.000123\n",
            "115) location_Karuna Nagar          0.000121\n",
            "116) location_Yelachenahalli        0.000121\n",
            "117) location_Chikkalasandra        0.000119\n",
            "118) location_Choodasandra          0.000119\n",
            "119) location_6th Phase JP Nagar    0.000116\n",
            "120) location_Kannamangala          0.000113\n",
            "121) location_Dasarahalli           0.000109\n",
            "122) location_5th Phase JP Nagar    0.000108\n",
            "123) location_Banashankari Stage V  0.000108\n",
            "124) location_Vidyaranyapura        0.000106\n",
            "125) location_Kasavanhalli          0.000100\n",
            "126) location_Kammanahalli          0.000100\n",
            "127) location_Kaggadasapura         0.000099\n",
            "128) location_Jalahalli             0.000098\n",
            "129) location_BEML Layout           0.000097\n",
            "130) location_Dommasandra           0.000092\n",
            "131) location_Harlur                0.000091\n",
            "132) location_Nagasandra            0.000090\n",
            "133) location_Mysore Road           0.000087\n",
            "134) location_Kammasandra           0.000087\n",
            "135) location_Jigani                0.000086\n",
            "136) location_Kodichikkanahalli     0.000084\n",
            "137) location_Bannerghatta          0.000083\n",
            "138) location_Ardendale             0.000081\n",
            "139) location_Varthur               0.000081\n",
            "140) location_Sector 7 HSR Layout   0.000081\n",
            "141) location_Devarachikkanahalli   0.000080\n",
            "142) location_Shivaji Nagar         0.000080\n",
            "143) location_Kengeri               0.000079\n",
            "144) location_Bommasandra           0.000079\n",
            "145) location_Amruthahalli          0.000077\n",
            "146) location_Varthur Road          0.000074\n",
            "147) location_Electronics City Phase 1 0.000072\n",
            "148) location_Pai Layout            0.000070\n",
            "149) location_Chikkabanavar         0.000070\n",
            "150) location_Battarahalli          0.000069\n",
            "151) location_Malleshpalya          0.000069\n",
            "152) location_Budigere              0.000068\n",
            "153) location_Nagavara              0.000067\n",
            "154) location_Kadugodi              0.000065\n",
            "155) location_Kaval Byrasandra      0.000063\n",
            "156) location_Gubbalala             0.000063\n",
            "157) location_Tumkur Road           0.000061\n",
            "158) location_Panathur              0.000061\n",
            "159) location_Bommasandra Industrial Area 0.000061\n",
            "160) location_CV Raman Nagar        0.000059\n",
            "161) location_Sarjapura - Attibele Road 0.000058\n",
            "162) location_Hoskote               0.000058\n",
            "163) location_Nagavarapalya         0.000057\n",
            "164) location_9th Phase JP Nagar    0.000054\n",
            "165) location_ITPL                  0.000054\n",
            "166) location_Singasandra           0.000054\n",
            "167) location_Murugeshpalya         0.000053\n",
            "168) location_Bhoganhalli           0.000049\n",
            "169) location_Akshaya Nagar         0.000048\n",
            "170) location_Kalena Agrahara       0.000047\n",
            "171) location_LB Shastri Nagar      0.000047\n",
            "172) location_Green Glen Layout     0.000046\n",
            "173) location_Tindlu                0.000043\n",
            "174) location_Kaggalipura           0.000043\n",
            "175) location_Mallasandra           0.000042\n",
            "176) location_Kalyan nagar          0.000042\n",
            "177) location_Doddathoguru          0.000041\n",
            "178) location_Abbigere              0.000038\n",
            "179) location_Thubarahalli          0.000038\n",
            "180) location_Subramanyapura        0.000036\n",
            "181) location_Sector 2 HSR Layout   0.000036\n",
            "182) location_Balagere              0.000036\n",
            "183) location_Ananth Nagar          0.000035\n",
            "184) location_Vishveshwarya Layout  0.000035\n",
            "185) location_Talaghattapura        0.000034\n",
            "186) location_Sultan Palaya         0.000034\n",
            "187) location_Hennur                0.000033\n",
            "188) location_Horamavu Banaswadi    0.000032\n",
            "189) location_Rajiv Nagar           0.000031\n",
            "190) location_Somasundara Palya     0.000031\n",
            "191) location_Lingadheeranahalli    0.000031\n",
            "192) location_Kengeri Satellite Town 0.000029\n",
            "193) location_Arekere               0.000028\n",
            "194) location_Mahadevpura           0.000027\n",
            "195) location_Billekahalli          0.000027\n",
            "196) location_Bommanahalli          0.000026\n",
            "197) location_Horamavu Agara        0.000026\n",
            "198) location_Kathriguppe           0.000025\n",
            "199) location_Marsur                0.000025\n",
            "200) location_Banjara Layout        0.000024\n",
            "201) location_Rayasandra            0.000024\n",
            "202) location_Shampura              0.000023\n",
            "203) location_NRI Layout            0.000023\n",
            "204) location_Babusapalaya          0.000021\n",
            "205) location_Kanakapura            0.000020\n",
            "206) location_BTM Layout            0.000020\n",
            "207) location_Jalahalli East        0.000020\n",
            "208) location_Anjanapura            0.000020\n",
            "209) location_Dasanapura            0.000019\n",
            "210) location_Anandapura            0.000019\n",
            "211) location_Margondanahalli       0.000019\n",
            "212) location_Kaikondrahalli        0.000019\n",
            "213) location_Rachenahalli          0.000018\n",
            "214) location_Yelenahalli           0.000016\n",
            "215) location_AECS Layout           0.000016\n",
            "216) location_Magadi Road           0.000014\n",
            "217) location_Kereguddadahalli      0.000013\n",
            "218) location_Gunjur                0.000012\n",
            "219) location_Vittasandra           0.000011\n",
            "220) location_Badavala Nagar        0.000011\n",
            "221) location_Mico Layout           0.000011\n",
            "222) location_2nd Phase Judicial Layout 0.000011\n",
            "223) location_GM Palaya             0.000011\n",
            "224) location_Kodigehaali           0.000011\n",
            "225) location_Narayanapura          0.000010\n",
            "226) location_Parappana Agrahara    0.000010\n",
            "227) location_Vishwapriya Layout    0.000009\n",
            "228) location_Kenchenahalli         0.000009\n",
            "229) location_Sompura               0.000009\n",
            "230) location_Garudachar Palya      0.000007\n",
            "231) location_Kudlu                 0.000007\n",
            "232) location_Sonnenahalli          0.000007\n",
            "233) location_Doddakallasandra      0.000006\n",
            "234) location_Bisuvanahalli         0.000005\n",
            "235) location_Vasanthapura          0.000005\n",
            "236) location_Bharathi Nagar        0.000005\n",
            "237) location_Poorna Pragna Layout  0.000002\n",
            "238) location_Kambipura             0.000002\n",
            "239) location_Pattandur Agrahara    0.000002\n",
            "240) location_NGR Layout            0.000001\n",
            "241) location_Gollarapalya Hosahalli 0.000001\n"
          ]
        }
      ]
    },
    {
      "cell_type": "code",
      "source": [
        "# considering only top 10 features\n",
        "X_train=x_train.loc[:,['total_sqft','size','area_type_Plot  Area','bath','location_other','location_Rajaji Nagar','area_type_Super built-up  Area',\n",
        "               'location_Indira Nagar','location_Banashankari Stage II','area_type_Carpet  Area']]"
      ],
      "metadata": {
        "id": "euMjkHXWIat4"
      },
      "execution_count": 110,
      "outputs": []
    },
    {
      "cell_type": "code",
      "source": [
        "X_test=x_test.loc[:,['total_sqft','size','area_type_Plot  Area','bath','location_other','location_Rajaji Nagar','area_type_Super built-up  Area',\n",
        "               'location_Indira Nagar','location_Banashankari Stage II','area_type_Carpet  Area']]"
      ],
      "metadata": {
        "id": "-2lGjWJNXXXs"
      },
      "execution_count": 111,
      "outputs": []
    },
    {
      "cell_type": "code",
      "source": [
        "from sklearn.ensemble import RandomForestRegressor\n",
        "rfr=RandomForestRegressor(n_estimators=100)\n",
        "rfr.fit(X_train, y_train)"
      ],
      "metadata": {
        "colab": {
          "base_uri": "https://localhost:8080/"
        },
        "id": "tTa4oeoPKVpW",
        "outputId": "3efb0a27-1fcf-46af-8d34-2fbf18a6072a"
      },
      "execution_count": 112,
      "outputs": [
        {
          "output_type": "execute_result",
          "data": {
            "text/plain": [
              "RandomForestRegressor()"
            ]
          },
          "metadata": {},
          "execution_count": 112
        }
      ]
    },
    {
      "cell_type": "code",
      "source": [
        "test_pred = rfr.predict(X_test)\n",
        "train_pred=rfr.predict(X_train)"
      ],
      "metadata": {
        "id": "RxzdSIq9KfWK"
      },
      "execution_count": 113,
      "outputs": []
    },
    {
      "cell_type": "code",
      "source": [
        "rfr_score = rfr.score(X_test,y_test)"
      ],
      "metadata": {
        "id": "buge9cGEKszH"
      },
      "execution_count": 114,
      "outputs": []
    },
    {
      "cell_type": "code",
      "source": [
        "print(rfr_score*100,'%')"
      ],
      "metadata": {
        "colab": {
          "base_uri": "https://localhost:8080/"
        },
        "id": "q4z-_hl7KzrN",
        "outputId": "bcc3fccc-94e5-4054-d1f0-3f1ecab3bf5a"
      },
      "execution_count": 115,
      "outputs": [
        {
          "output_type": "stream",
          "name": "stdout",
          "text": [
            "66.8100613412646 %\n"
          ]
        }
      ]
    },
    {
      "cell_type": "markdown",
      "source": [
        "# **Conclusion:**"
      ],
      "metadata": {
        "id": "NbSYmnLgoBT8"
      }
    },
    {
      "cell_type": "markdown",
      "source": [
        "**After applying feature reduction based on the feature importance, the score is not improving. So we need to remove all the outliers and apply the algorithms again.**"
      ],
      "metadata": {
        "id": "3ekeXTyNXykC"
      }
    }
  ]
}